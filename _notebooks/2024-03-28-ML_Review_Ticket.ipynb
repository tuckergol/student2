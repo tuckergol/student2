{
 "cells": [
  {
   "cell_type": "markdown",
   "metadata": {},
   "source": [
    "---\n",
    "comments: true\n",
    "layout: post\n",
    "title: ML Project - Individual Review Ticket\n",
    "description: Review Ticket for ML custom dataset.\n",
    "type: tangibles\n",
    "courses: { compsci: {week: 28} }\n",
    "---"
   ]
  },
  {
   "cell_type": "markdown",
   "metadata": {},
   "source": [
    "### Introduction\n",
    "\n",
    "The topics for each of our (Aditya, Varun, Tucker) CPT projects collectively came to essentially stocks/business and cooking/food. So, we found a suitable dataset of ordered items from a bakery to combine those elements of business and food/cooking/baking, deciding that our ML model would determine a food order at the bakery (ex: \"Bread\", \"Coffee\", \"Pastry\", etc.) based on the other variables in the dataset (exact military time, general time: \"Afternoon/Morning\", and day of the week: \"Weekend/Weekday\").\n",
    "\n",
    "Because our dataset of ~20 thousand total rows/orders included nearly 1/4 \"Coffee\" as a food item, it was extremely common to get Coffee\"\" rather than any other item. Therefore, we made two separate Models, APIs, and frontend input fields to include both the normal (skewed by \"Coffee\") dataset/CSV file, and another identitical input field that simply used a different Model, API, and dataset and different datset/CSV file with \"Coffee\" filtered out. Screenshots below.\n",
    "\n",
    "### Project Screenshots\n",
    "\n",
    "<img src=\"ML1\">\n",
    "\n",
    "<img src=\"ML2\">\n",
    "\n",
    "<img src=\"ML3\">\n",
    "\n",
    "<img src=\"ML4\">"
   ]
  }
 ],
 "metadata": {
  "language_info": {
   "name": "python"
  },
  "orig_nbformat": 4
 },
 "nbformat": 4,
 "nbformat_minor": 2
}
