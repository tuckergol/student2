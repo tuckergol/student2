{
 "cells": [
  {
   "cell_type": "markdown",
   "metadata": {},
   "source": [
    "---\n",
    "toc: true\n",
    "comments: false\n",
    "layout: post\n",
    "title: Project Grade Table\n",
    "type: hacks\n",
    "courses: { compsci: {week: 11} }\n",
    "---"
   ]
  },
  {
   "cell_type": "code",
   "execution_count": 2,
   "metadata": {
    "vscode": {
     "languageId": "html"
    }
   },
   "outputs": [
    {
     "data": {
      "text/html": [
       "\n",
       "<h2>Dress Rehearsal Grading Average</h2>\n",
       "\n",
       "<body>\n",
       "    <table class=\"table\">\n",
       "        <thead>\n",
       "            <tr>\n",
       "                <th>Grader</th>\n",
       "                <th>Hook</th>\n",
       "                <th>Knowledge</th>\n",
       "                <th>Value</th>\n",
       "                <th>Total</th>\n",
       "            </tr>\n",
       "        </thead>\n",
       "        <tbody>\n",
       "            <tr>\n",
       "                <td>jaydenchen17</td>\n",
       "                <td>3.9</td>\n",
       "                <td>3.95</td>\n",
       "                <td>1.0</td>\n",
       "                <td>8.85</td>\n",
       "            </tr>\n",
       "            <tr>\n",
       "                <td>Soham360</td>\n",
       "                <td>3.7</td>\n",
       "                <td>3.8</td>\n",
       "                <td>1.0</td>\n",
       "                <td>8.50</td>\n",
       "            </tr>\n",
       "            <tr>\n",
       "                <td>TheoH32</td>\n",
       "                <td>3.7</td>\n",
       "                <td>3.9</td>\n",
       "                <td>0.9</td>\n",
       "                <td>8.50</td>\n",
       "            </tr>\n",
       "        </tbody>\n",
       "    </table>\n",
       "</body>\n",
       "\n",
       "<h3>Average: 8.62/9</h3>\n"
      ],
      "text/plain": [
       "<IPython.core.display.HTML object>"
      ]
     },
     "metadata": {},
     "output_type": "display_data"
    }
   ],
   "source": [
    "%%html\n",
    "\n",
    "<h2>Dress Rehearsal Grading Average</h2>\n",
    "\n",
    "<body>\n",
    "    <table class=\"table\">\n",
    "        <thead>\n",
    "            <tr>\n",
    "                <th>Grader</th>\n",
    "                <th>Hook</th>\n",
    "                <th>Knowledge</th>\n",
    "                <th>Value</th>\n",
    "                <th>Total</th>\n",
    "            </tr>\n",
    "        </thead>\n",
    "        <tbody>\n",
    "            <tr>\n",
    "                <td>jaydenchen17</td>\n",
    "                <td>3.9</td>\n",
    "                <td>3.95</td>\n",
    "                <td>1.0</td>\n",
    "                <td>8.85</td>\n",
    "            </tr>\n",
    "            <tr>\n",
    "                <td>Soham360</td>\n",
    "                <td>3.7</td>\n",
    "                <td>3.8</td>\n",
    "                <td>1.0</td>\n",
    "                <td>8.50</td>\n",
    "            </tr>\n",
    "            <tr>\n",
    "                <td>TheoH32</td>\n",
    "                <td>3.7</td>\n",
    "                <td>3.9</td>\n",
    "                <td>0.9</td>\n",
    "                <td>8.50</td>\n",
    "            </tr>\n",
    "        </tbody>\n",
    "    </table>\n",
    "</body>\n",
    "\n",
    "<h3>Average: 8.62/9</h3>"
   ]
  }
 ],
 "metadata": {
  "kernelspec": {
   "display_name": "Python 3",
   "language": "python",
   "name": "python3"
  },
  "language_info": {
   "codemirror_mode": {
    "name": "ipython",
    "version": 3
   },
   "file_extension": ".py",
   "mimetype": "text/x-python",
   "name": "python",
   "nbconvert_exporter": "python",
   "pygments_lexer": "ipython3",
   "version": "3.11.4"
  },
  "orig_nbformat": 4
 },
 "nbformat": 4,
 "nbformat_minor": 2
}
