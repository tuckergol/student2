{
 "cells": [
  {
   "cell_type": "markdown",
   "metadata": {},
   "source": [
    "---\n",
    "toc: true\n",
    "comments: false\n",
    "layout: post\n",
    "title: JavaScript Outputs w/ Objects\n",
    "description: Learn about outputs from JavaScript in relation to inputs (what creates what).\n",
    "type: hacks\n",
    "courses: { compsci: {week: 3} }\n",
    "---"
   ]
  },
  {
   "cell_type": "markdown",
   "metadata": {},
   "source": [
    "console.log can be a tool used for debugging and inspecting the behavior of code while it is running. It allows the printing of messages or values to the console, which can help in understanding what is happening in the code, potentially identifying errors or unexpected behavior."
   ]
  },
  {
   "cell_type": "code",
   "execution_count": 1,
   "metadata": {
    "vscode": {
     "languageId": "javascript"
    }
   },
   "outputs": [
    {
     "data": {
      "text/html": [
       "<html>\n",
       "    <head>\n",
       "        <style>\n",
       "            #output {\n",
       "                background-color: #353b45;\n",
       "                padding: 10px;\n",
       "                border: 3px solid #ccc;\n",
       "            }\n",
       "        </style>\n",
       "    </head>\n",
       "    <body>\n",
       "        <p id=\"data\" hidden>\n",
       "        </p>\n",
       "        <div id=\"output\">\n",
       "            Hello!\n",
       "        </div>\n",
       "    </body>\n",
       "</html>\n"
      ],
      "text/plain": [
       "<IPython.core.display.HTML object>"
      ]
     },
     "metadata": {},
     "output_type": "display_data"
    }
   ],
   "source": [
    "%%html\n",
    "<html>\n",
    "    <head>\n",
    "        <style>\n",
    "            #output {\n",
    "                background-color: #353b45;\n",
    "                padding: 10px;\n",
    "                border: 3px solid #ccc;\n",
    "            }\n",
    "        </style>\n",
    "    </head>\n",
    "    <body>\n",
    "        <p id=\"data\" hidden>\n",
    "        </p>\n",
    "        <div id=\"output\">\n",
    "            Hello!\n",
    "        </div>\n",
    "    </body>\n",
    "</html>"
   ]
  },
  {
   "cell_type": "code",
   "execution_count": 2,
   "metadata": {
    "vscode": {
     "languageId": "javascript"
    }
   },
   "outputs": [
    {
     "data": {
      "application/javascript": "\nconsole.log(\"JavaScript/Jupyter Output Intro\");\n\n// Browser Console output; debugging or tracing\nconsole.log(\"Hello, World!\");\n\n// Set element in HTML above using DOM (Document Object Model)\ndocument.getElementById(\"output\").textContent = \"Hello, World!\";\n\n// Jupyter built in magic element for testing and convenience of development\nelement.textContent = \"Hello, World!\";  // element is an output option as part of %%js magic\n\n//alert(\"Hello, World!\");\n",
      "text/plain": [
       "<IPython.core.display.Javascript object>"
      ]
     },
     "metadata": {},
     "output_type": "display_data"
    }
   ],
   "source": [
    "%%js // required to allow cell to be JavaScript enabled\n",
    "\n",
    "console.log(\"JavaScript/Jupyter Output Intro\");\n",
    "\n",
    "// Browser Console output; debugging or tracing\n",
    "console.log(\"Hello, World!\");\n",
    "\n",
    "// Set element in HTML above using DOM (Document Object Model)\n",
    "document.getElementById(\"output\").textContent = \"Hello, World!\";\n",
    "\n",
    "// Jupyter built in magic element for testing and convenience of development\n",
    "element.textContent = \"Hello, World!\";  // element is an output option as part of %%js magic\n",
    "\n",
    "//alert(\"Hello, World!\");"
   ]
  },
  {
   "cell_type": "code",
   "execution_count": 3,
   "metadata": {
    "vscode": {
     "languageId": "javascript"
    }
   },
   "outputs": [
    {
     "data": {
      "application/javascript": "console.log(\"Variable Definition\");\n\nvar msg = \"Hello, World Again!\";\n\n// Use msg to output code to Console and Jupyter Notebook\nconsole.log(msg);  //right click browser select Inspect, then select Console to view\ndocument.getElementById(\"output\").textContent = msg;\nelement.append(msg);\n//alert(msg);\n",
      "text/plain": [
       "<IPython.core.display.Javascript object>"
      ]
     },
     "metadata": {},
     "output_type": "display_data"
    }
   ],
   "source": [
    "%%js\n",
    "console.log(\"Variable Definition\");\n",
    "\n",
    "var msg = \"Hello, World Again!\";\n",
    "\n",
    "// Use msg to output code to Console and Jupyter Notebook\n",
    "console.log(msg);  //right click browser select Inspect, then select Console to view\n",
    "document.getElementById(\"output\").textContent = msg;\n",
    "element.append(msg);\n",
    "//alert(msg);"
   ]
  },
  {
   "cell_type": "code",
   "execution_count": 7,
   "metadata": {
    "vscode": {
     "languageId": "javascript"
    }
   },
   "outputs": [
    {
     "data": {
      "application/javascript": "console.log(\"Function Definition\");\n\n/* Function: logIt\n * Parameter: output\n * Description: The parameter is \"output\" to console and jupyter page\n*/\nfunction logIt(msg) {\n    console.log(msg); \n    element.append(msg);\n    document.getElementById(\"output\").textContent = msg;\n    //alert(output);\n}\n\n// sequence of code build logIt parameter using concatenation\nvar msg = \"I am a student,\" // replaces content of variable\nvar classOf = \"I am in the AP CSP class of 2023-2024!\"\nlogIt(msg + \"  \" + classOf); // concatenation of strings\n",
      "text/plain": [
       "<IPython.core.display.Javascript object>"
      ]
     },
     "metadata": {},
     "output_type": "display_data"
    }
   ],
   "source": [
    "%%js\n",
    "console.log(\"Function Definition\");\n",
    "\n",
    "/* Function: logIt\n",
    " * Parameter: output\n",
    " * Description: The parameter is \"output\" to console and jupyter page\n",
    "*/\n",
    "function logIt(msg) {\n",
    "    console.log(msg); \n",
    "    element.append(msg);\n",
    "    document.getElementById(\"output\").textContent = msg;\n",
    "    //alert(output);\n",
    "}\n",
    "\n",
    "// sequence of code build logIt parameter using concatenation\n",
    "var msg = \"I am a student,\" // replaces content of variable\n",
    "var classOf = \"I am in the AP CSP class of 2023-2024!\"\n",
    "logIt(msg + \"  \" + classOf); // concatenation of strings"
   ]
  },
  {
   "cell_type": "code",
   "execution_count": 8,
   "metadata": {
    "vscode": {
     "languageId": "javascript"
    }
   },
   "outputs": [
    {
     "data": {
      "application/javascript": "console.log(\"Examine Data Types\");\n\n// Function to add typeof to output\nfunction getType(output) {\n    return typeof output + \": \" + output;\n}\n\n// Function defintion\nfunction logIt(msg) {\n    console.log(getType(msg));  // logs string\n    console.info(msg);          // logs object\n    document.getElementById(\"output\").textContent = msg;\n    element.append(getType(msg) + \" \");  // adds to Jupyter output\n    //alert(getType(msg));\n}\n\n// Common Types\nelement.append(\"Common Types \");\nlogIt(\"Mr M\"); // String\nlogIt(1997);    // Number\nlogIt(true);    // Boolean\n\n// Object Type, this definition is often called a array or list\nelement.append(\"Object Type, array \");\nvar scores = [\n    90,\n    80, \n    100\n];  \nlogIt(scores);\n\n// Complex Object, this definition is often called hash, map, hashmap, or dictionary\nelement.append(\"Object Type, hash or dictionary \");\nvar person = { // key:value pairs seperated by comma\n    \"name\": \"Tucker\", \n    \"role\": \"Student\"\n}; \nlogIt(person);\nlogIt(JSON.stringify(person));  //method used to convert this object into readable format\n",
      "text/plain": [
       "<IPython.core.display.Javascript object>"
      ]
     },
     "metadata": {},
     "output_type": "display_data"
    }
   ],
   "source": [
    "%%js\n",
    "console.log(\"Examine Data Types\");\n",
    "\n",
    "// Function to add typeof to output\n",
    "function getType(output) {\n",
    "    return typeof output + \": \" + output;\n",
    "}\n",
    "\n",
    "// Function defintion\n",
    "function logIt(msg) {\n",
    "    console.log(getType(msg));  // logs string\n",
    "    console.info(msg);          // logs object\n",
    "    document.getElementById(\"output\").textContent = msg;\n",
    "    element.append(getType(msg) + \" \");  // adds to Jupyter output\n",
    "    //alert(getType(msg));\n",
    "}\n",
    "\n",
    "// Common Types\n",
    "element.append(\"Common Types \");\n",
    "logIt(\"Mr M\"); // String\n",
    "logIt(1997);    // Number\n",
    "logIt(true);    // Boolean\n",
    "\n",
    "// Object Type, this definition is often called a array or list\n",
    "element.append(\"Object Type, array \");\n",
    "var scores = [\n",
    "    90,\n",
    "    80, \n",
    "    100\n",
    "];  \n",
    "logIt(scores);\n",
    "\n",
    "// Complex Object, this definition is often called hash, map, hashmap, or dictionary\n",
    "element.append(\"Object Type, hash or dictionary \");\n",
    "var person = { // key:value pairs seperated by comma\n",
    "    \"name\": \"Tucker\", \n",
    "    \"role\": \"Student\"\n",
    "}; \n",
    "logIt(person);\n",
    "logIt(JSON.stringify(person));  //method used to convert this object into readable format\n"
   ]
  },
  {
   "cell_type": "code",
   "execution_count": 9,
   "metadata": {
    "vscode": {
     "languageId": "javascript"
    }
   },
   "outputs": [
    {
     "data": {
      "application/javascript": "console.log(\"Person objects\");\n\n/* class: Person\n * Description: A collection of Person data\n*/\nclass Person {\n  /* method: constructor\n   * parameters: name, ghID - GitHub ID, classOf - Graduation Class \n   * description: returns object when \"new Person()\" is called with matching parameters\n   * assignment: this.name, this.ghID, ... are properties retained in the returned object\n   * default: role uses a default property, it is set to \"Student\"\n  */\n  constructor(name, ghID, classOf, role=\"Student\") {\n    this.name = name;\n    this.ghID = ghID;\n    this.classOf = classOf;\n    this.role = role;\n  }\n\n  /* method: setter\n   * parameters: role - role in classroom\n   * description: this.role is updated from default value to value contained in role parameter\n  */\n  setRole(role) {\n    this.role = role;\n  }\n  \n  /* method: getter\n   * description: turns properties of object into JSON object\n   * return value: JSON object\n  */\n  getJSON() {\n    const obj = {type: typeof this, name: this.name, ghID: this.ghID, classOf: this.classOf, role: this.role};\n    const json = JSON.stringify(obj);\n    return json;\n  }\n\n  /* method: logIT\n   * description: this Person object is logged to console\n  */\n  \n  logIt() {\n    //Person Object\n    console.info(this);\n       \n    // HTML output\n    document.getElementById(\"output\").textContent = this.getJSON();\n\n    //Log to Jupter\n    element.append(this.role + \" object in JSON: \");\n    element.append(this.getJSON());  \n    element.append(\" \");\n\n\n    //alert(this.getJSON());\n  }\n    \n}\n\n// make a new Person Object\nconst teacher = new Person(\"Tucker\", \"tuckergol\", 1977); // object type is easy to work with in JavaScript\n// update role to Teacher\nvar role = \"Student\";\nteacher.setRole(role); // set the role\nteacher.logIt();  // log to console\n\n// make a new Person Object\nconst student = new Person(\"Jane Doe\", \"jane\", 2007); // object type is easy to work with in JavaScript\nstudent.logIt(); // log to console\n",
      "text/plain": [
       "<IPython.core.display.Javascript object>"
      ]
     },
     "metadata": {},
     "output_type": "display_data"
    }
   ],
   "source": [
    "%%js\n",
    "console.log(\"Person objects\");\n",
    "\n",
    "/* class: Person\n",
    " * Description: A collection of Person data\n",
    "*/\n",
    "class Person {\n",
    "  /* method: constructor\n",
    "   * parameters: name, ghID - GitHub ID, classOf - Graduation Class \n",
    "   * description: returns object when \"new Person()\" is called with matching parameters\n",
    "   * assignment: this.name, this.ghID, ... are properties retained in the returned object\n",
    "   * default: role uses a default property, it is set to \"Student\"\n",
    "  */\n",
    "  constructor(name, ghID, classOf, role=\"Student\") {\n",
    "    this.name = name;\n",
    "    this.ghID = ghID;\n",
    "    this.classOf = classOf;\n",
    "    this.role = role;\n",
    "  }\n",
    "\n",
    "  /* method: setter\n",
    "   * parameters: role - role in classroom\n",
    "   * description: this.role is updated from default value to value contained in role parameter\n",
    "  */\n",
    "  setRole(role) {\n",
    "    this.role = role;\n",
    "  }\n",
    "  \n",
    "  /* method: getter\n",
    "   * description: turns properties of object into JSON object\n",
    "   * return value: JSON object\n",
    "  */\n",
    "  getJSON() {\n",
    "    const obj = {type: typeof this, name: this.name, ghID: this.ghID, classOf: this.classOf, role: this.role};\n",
    "    const json = JSON.stringify(obj);\n",
    "    return json;\n",
    "  }\n",
    "\n",
    "  /* method: logIT\n",
    "   * description: this Person object is logged to console\n",
    "  */\n",
    "  \n",
    "  logIt() {\n",
    "    //Person Object\n",
    "    console.info(this);\n",
    "       \n",
    "    // HTML output\n",
    "    document.getElementById(\"output\").textContent = this.getJSON();\n",
    "\n",
    "    //Log to Jupter\n",
    "    element.append(this.role + \" object in JSON: \");\n",
    "    element.append(this.getJSON());  \n",
    "    element.append(\" \");\n",
    "\n",
    "\n",
    "    //alert(this.getJSON());\n",
    "  }\n",
    "    \n",
    "}\n",
    "\n",
    "// make a new Person Object\n",
    "const teacher = new Person(\"Tucker\", \"tuckergol\", 1977); // object type is easy to work with in JavaScript\n",
    "// update role to Teacher\n",
    "var role = \"Student\";\n",
    "teacher.setRole(role); // set the role\n",
    "teacher.logIt();  // log to console\n",
    "\n",
    "// make a new Person Object\n",
    "const student = new Person(\"Jane Doe\", \"jane\", 2007); // object type is easy to work with in JavaScript\n",
    "student.logIt(); // log to console"
   ]
  },
  {
   "cell_type": "code",
   "execution_count": 10,
   "metadata": {
    "vscode": {
     "languageId": "javascript"
    }
   },
   "outputs": [
    {
     "data": {
      "application/javascript": "console.log(\"Classroom object\");\n\n/* class: Person\n * Description: A collection of Person data\n*/\nclass Person {\n  /* method: constructor\n   * parameters: name, ghID - GitHub ID, classOf - Graduation Class \n   * description: returns object when \"new Person()\" is called with matching parameters\n   * assignment: this.name, this.ghID, ... are properties retained in the returned object\n   * default: this.role is a default property retained in object, it is set to \"Student\"\n  */\n  constructor(name, ghID, classOf, role=\"Student\") {\n    this.name = name;\n    this.ghID = ghID;\n    this.classOf = classOf;\n    this.role = role;\n  }\n\n  /* method: setter\n   * parameters: role - role in classroom\n   * description: this.role is updated from default value to value contained in role parameter\n  */\n  setRole(role) {\n    this.role = role;\n  }\n  \n  /* method: getter\n   * description: turns properties of object into JSON object\n   * return value: JSON object\n  */\n  getJSON() {\n    const obj = {type: typeof this, name: this.name, ghID: this.ghID, classOf: this.classOf, role: this.role};\n    const json = JSON.stringify(obj);\n    return json;\n  }\n\n  /* method: logIT\n   * description: this Person object is logged to console\n  */\n  logIt() {\n    //Person Object\n    console.info(this);\n    // HTML output tag\n    document.getElementById(\"output\").textContent = this.getJSON();\n\n    //Log to Jupter\n    element.append(\"Person json <br>\");\n    element.append(this.getJSON() + \"<br>\"); \n\n    //alert(this.getJSON());\n  }\n    \n}\n\n/* class: Classroom\n * Description: A collection of Person objects\n*/\nclass Classroom {\n  /* method: constructor\n   * parameters: teacher - a Person object, students - an array of Person objects\n   * description: returns object when \"new Classroom()\" is called containing properties and methods of a Classroom\n   * assignment: this.classroom, this.teacher, ... are properties retained in the returned object\n  */\n  constructor(teacher, students) {\n    /* spread: this.classroom contains Teacher object and all Student objects\n     * map: this.json contains of map of all persons to JSON\n    */\n    this.teacher = teacher;\n    this.students = students;\n    this.classroom = [teacher, ...students]; // ... spread option\n    this.json = '{\"classroom\":[' + this.classroom.map(person => person.getJSON()) + ']}';\n  }\n\n  /* method: logIT\n   * description: this Classroom object is logged to console\n  */\n  logIt() {\n    //Classroom object\n    console.log(this);\n\n    // HTML output\n    document.getElementById(\"data\").textContent = this.json;\n    document.getElementById(\"output\").textContent = this.json;\n\n    //Classroom json\n    element.append(\"Classroom object in JSON: \");\n    element.append(this.json);\n\n    //alert(this.json);\n  }\n}\n\n/* function: constructCompSciClassroom\n * Description: Create data for Classroom and Person objects\n * Returns: A Classroom Object\n*/\nfunction constructCompSciClassroom() {\n    // define a Teacher object\n    const teacher = new Person(\"Mr M\", \"jm1021\", 1977, \"Teacher\");  // optional 4th parameter\n\n    // define a student Array of Person objects\n    const students = [ \n        new Person(\"Anthony\", \"tonyhieu\", 2022),\n        new Person(\"Bria\", \"B-G101\", 2023),\n        new Person(\"Allie\", \"xiaoa0\", 2023),\n        new Person(\"Tigran\", \"Tigran7\", 2023),\n        new Person(\"Rebecca\", \"Rebecca-123\", 2023),\n        new Person(\"Vidhi\", \"VidhiKulkarni\", 2024)\n    ];\n\n    // make a CompSci classroom from formerly defined teacher and student objects\n    return new Classroom(teacher, students);  // returns object\n}\n\n// assigns compsci to the object returned by \"constructCompSciClassroom()\" function\nconst compsci = constructCompSciClassroom();\n// output of Objects and JSON in CompSci classroom\ncompsci.logIt();\n",
      "text/plain": [
       "<IPython.core.display.Javascript object>"
      ]
     },
     "metadata": {},
     "output_type": "display_data"
    }
   ],
   "source": [
    "%%js\n",
    "console.log(\"Classroom object\");\n",
    "\n",
    "/* class: Person\n",
    " * Description: A collection of Person data\n",
    "*/\n",
    "class Person {\n",
    "  /* method: constructor\n",
    "   * parameters: name, ghID - GitHub ID, classOf - Graduation Class \n",
    "   * description: returns object when \"new Person()\" is called with matching parameters\n",
    "   * assignment: this.name, this.ghID, ... are properties retained in the returned object\n",
    "   * default: this.role is a default property retained in object, it is set to \"Student\"\n",
    "  */\n",
    "  constructor(name, ghID, classOf, role=\"Student\") {\n",
    "    this.name = name;\n",
    "    this.ghID = ghID;\n",
    "    this.classOf = classOf;\n",
    "    this.role = role;\n",
    "  }\n",
    "\n",
    "  /* method: setter\n",
    "   * parameters: role - role in classroom\n",
    "   * description: this.role is updated from default value to value contained in role parameter\n",
    "  */\n",
    "  setRole(role) {\n",
    "    this.role = role;\n",
    "  }\n",
    "  \n",
    "  /* method: getter\n",
    "   * description: turns properties of object into JSON object\n",
    "   * return value: JSON object\n",
    "  */\n",
    "  getJSON() {\n",
    "    const obj = {type: typeof this, name: this.name, ghID: this.ghID, classOf: this.classOf, role: this.role};\n",
    "    const json = JSON.stringify(obj);\n",
    "    return json;\n",
    "  }\n",
    "\n",
    "  /* method: logIT\n",
    "   * description: this Person object is logged to console\n",
    "  */\n",
    "  logIt() {\n",
    "    //Person Object\n",
    "    console.info(this);\n",
    "    // HTML output tag\n",
    "    document.getElementById(\"output\").textContent = this.getJSON();\n",
    "\n",
    "    //Log to Jupter\n",
    "    element.append(\"Person json <br>\");\n",
    "    element.append(this.getJSON() + \"<br>\"); \n",
    "\n",
    "    //alert(this.getJSON());\n",
    "  }\n",
    "    \n",
    "}\n",
    "\n",
    "/* class: Classroom\n",
    " * Description: A collection of Person objects\n",
    "*/\n",
    "class Classroom {\n",
    "  /* method: constructor\n",
    "   * parameters: teacher - a Person object, students - an array of Person objects\n",
    "   * description: returns object when \"new Classroom()\" is called containing properties and methods of a Classroom\n",
    "   * assignment: this.classroom, this.teacher, ... are properties retained in the returned object\n",
    "  */\n",
    "  constructor(teacher, students) {\n",
    "    /* spread: this.classroom contains Teacher object and all Student objects\n",
    "     * map: this.json contains of map of all persons to JSON\n",
    "    */\n",
    "    this.teacher = teacher;\n",
    "    this.students = students;\n",
    "    this.classroom = [teacher, ...students]; // ... spread option\n",
    "    this.json = '{\"classroom\":[' + this.classroom.map(person => person.getJSON()) + ']}';\n",
    "  }\n",
    "\n",
    "  /* method: logIT\n",
    "   * description: this Classroom object is logged to console\n",
    "  */\n",
    "  logIt() {\n",
    "    //Classroom object\n",
    "    console.log(this);\n",
    "\n",
    "    // HTML output\n",
    "    document.getElementById(\"data\").textContent = this.json;\n",
    "    document.getElementById(\"output\").textContent = this.json;\n",
    "\n",
    "    //Classroom json\n",
    "    element.append(\"Classroom object in JSON: \");\n",
    "    element.append(this.json);\n",
    "\n",
    "    //alert(this.json);\n",
    "  }\n",
    "}\n",
    "\n",
    "/* function: constructCompSciClassroom\n",
    " * Description: Create data for Classroom and Person objects\n",
    " * Returns: A Classroom Object\n",
    "*/\n",
    "function constructCompSciClassroom() {\n",
    "    // define a Teacher object\n",
    "    const teacher = new Person(\"Mr M\", \"jm1021\", 1977, \"Teacher\");  // optional 4th parameter\n",
    "\n",
    "    // define a student Array of Person objects\n",
    "    const students = [ \n",
    "        new Person(\"Anthony\", \"tonyhieu\", 2022),\n",
    "        new Person(\"Bria\", \"B-G101\", 2023),\n",
    "        new Person(\"Allie\", \"xiaoa0\", 2023),\n",
    "        new Person(\"Tigran\", \"Tigran7\", 2023),\n",
    "        new Person(\"Rebecca\", \"Rebecca-123\", 2023),\n",
    "        new Person(\"Vidhi\", \"VidhiKulkarni\", 2024)\n",
    "    ];\n",
    "\n",
    "    // make a CompSci classroom from formerly defined teacher and student objects\n",
    "    return new Classroom(teacher, students);  // returns object\n",
    "}\n",
    "\n",
    "// assigns compsci to the object returned by \"constructCompSciClassroom()\" function\n",
    "const compsci = constructCompSciClassroom();\n",
    "// output of Objects and JSON in CompSci classroom\n",
    "compsci.logIt();"
   ]
  },
  {
   "cell_type": "code",
   "execution_count": 17,
   "metadata": {
    "vscode": {
     "languageId": "javascript"
    }
   },
   "outputs": [
    {
     "data": {
      "application/javascript": "console.log(\"Classroom Web Page\");\n\n// extract JSON text from output element in HTML page\nconst jsonText = document.getElementById(\"data\").innerHTML;\n\n// convert JSON text to a JavaScript Object to process\nconst classroom = JSON.parse(jsonText).classroom;\nconsole.log(classroom);\n\n// make an HTML Out format for pretty display\n/* Template literals (`), can make HTML generation more concise;\n * the map functions generates row strings and the join method combines them;\n * this replaces longer and ugly for loop and string concatenation.\n*/\nconst htmlOut = `\n    <table>\n        <thead>\n            <tr>\n                <th>Name</th>\n                <th>GitHub ID</th>\n                <th>Class Of</th>\n                <th>Role</th>\n            </tr>\n        </thead>\n        <tbody>\n            ${classroom.map(row => `\n                <tr>\n                    <td>${row.name}</td>\n                    <td>${row.ghID}</td>\n                    <td>${row.classOf}</td>\n                    <td>${row.role}</td>\n                </tr>\n            `).join('')}\n        </tbody>\n    </table>\n`;\n\n// assign/set htmlOut to output element in HTML page\ndocument.getElementById(\"output\").innerHTML = htmlOut;\n\n// show raw HTML\nconsole.log(htmlOut);\nelement.append(htmlOut);\n",
      "text/plain": [
       "<IPython.core.display.Javascript object>"
      ]
     },
     "metadata": {},
     "output_type": "display_data"
    }
   ],
   "source": [
    "%%js\n",
    "console.log(\"Classroom Web Page\");\n",
    "\n",
    "// extract JSON text from output element in HTML page\n",
    "const jsonText = document.getElementById(\"data\").innerHTML;\n",
    "\n",
    "// convert JSON text to a JavaScript Object to process\n",
    "const classroom = JSON.parse(jsonText).classroom;\n",
    "console.log(classroom);\n",
    "\n",
    "// make an HTML Out format for pretty display\n",
    "/* Template literals (`), can make HTML generation more concise;\n",
    " * the map functions generates row strings and the join method combines them;\n",
    " * this replaces longer and ugly for loop and string concatenation.\n",
    "*/\n",
    "const htmlOut = `\n",
    "    <table>\n",
    "        <thead>\n",
    "            <tr>\n",
    "                <th>Name</th>\n",
    "                <th>GitHub ID</th>\n",
    "                <th>Class Of</th>\n",
    "                <th>Role</th>\n",
    "            </tr>\n",
    "        </thead>\n",
    "        <tbody>\n",
    "            ${classroom.map(row => `\n",
    "                <tr>\n",
    "                    <td>${row.name}</td>\n",
    "                    <td>${row.ghID}</td>\n",
    "                    <td>${row.classOf}</td>\n",
    "                    <td>${row.role}</td>\n",
    "                </tr>\n",
    "            `).join('')}\n",
    "        </tbody>\n",
    "    </table>\n",
    "`;\n",
    "\n",
    "// assign/set htmlOut to output element in HTML page\n",
    "document.getElementById(\"output\").innerHTML = htmlOut;\n",
    "\n",
    "// show raw HTML\n",
    "console.log(htmlOut);\n",
    "element.append(htmlOut);"
   ]
  }
 ],
 "metadata": {
  "kernelspec": {
   "display_name": "Python 3",
   "language": "python",
   "name": "python3"
  },
  "language_info": {
   "codemirror_mode": {
    "name": "ipython",
    "version": 3
   },
   "file_extension": ".py",
   "mimetype": "text/x-python",
   "name": "python",
   "nbconvert_exporter": "python",
   "pygments_lexer": "ipython3",
   "version": "3.11.4"
  },
  "orig_nbformat": 4
 },
 "nbformat": 4,
 "nbformat_minor": 2
}
