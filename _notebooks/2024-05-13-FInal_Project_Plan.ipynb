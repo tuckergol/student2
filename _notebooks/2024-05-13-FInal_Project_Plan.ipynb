{
 "cells": [
  {
   "cell_type": "markdown",
   "metadata": {},
   "source": [
    "---\n",
    "comments: true\n",
    "toc: true\n",
    "layout: default\n",
    "title: Final Project Plan\n",
    "description: Final Project Plan for the last Sprint before the end of the school year.\n",
    "type: tangibles\n",
    "courses: { compsci: {week: 35} }\n",
    "---"
   ]
  },
  {
   "cell_type": "markdown",
   "metadata": {},
   "source": [
    "# Final Sprint Plan Overview\n",
    "\n",
    "Below are the primary aspects I'd like to tackle in this final Sprint.\n",
    "\n",
    "1. Finalize/add to project (Settings Feature) based off of new requirements discussed in [teacher issue](https://github.com/orgs/nighthawkcoders/projects/12/views/1?pane=issue&itemId=61723349).\n",
    "2. Add to project based on peer and previous teacher feedback for feature to aid with work finalization, possibly even adding more settings options, for example.\n",
    "3. Continue to document learning and work until the end of the year in Time Box/blog using Plans, Hacks, and Tangibles categories and reflect on computer science experience throughout all three trimesters.\n",
    "\n",
    "# Final Project Additions for Requirements from [Teacher Issue](https://github.com/orgs/nighthawkcoders/projects/12/views/1?pane=issue&itemId=61723349)\n",
    "\n",
    "- \"Loops (Algorithmic): show specific example of building a List using List Comprehension. Show examples of processing a list using conventional and for each methods\"\n",
    "    - Current settings features don't have much potential in this category\n",
    "        - I plan to create a new settings feature: list of favorite items, corresponding to a user\n",
    "            - Would involve either a separate SQLITE database table in the backend or a separate column in the 'users' table that stores the corresponding user's list of items they favorited via the frontend\n",
    "            - Fulfills requirements: when a user accesses the settings page, use list comprehension to build list of favorite items (retrieve user's favorite items from database --> construct a list using list comprehension)\n",
    "                - Then process list using conventional methods like 'for' loop or 'for each' method\n",
    "- \"Sorting / Searching (Algorithmic): show examples of sorting and searching using the backend of your project.. FYI, SQLAlchemy allows filtered selections and sorting. Additionally, you have sorting options discussed in tech talk\"\n",
    "    - Likely showcase sorting and searching operations using SQLAlchemy queries\n",
    "        - Ex: retrieve users sorted by ID in descending order, search for a user by their username, etc.\n",
    "            - Get more ideas and context for requirements/expectations from tech talk...\n",
    "- \"Deployment (Full Stack): a complete deployment illustration multiple people using and updating your Full Stack Web Application simultaneously\"\n",
    "    - Deploy with AWS \n",
    "        - Login functionality, authentication\n",
    "            - Use @token_required to guard most actions, like Username, UID, and PFP changing\n",
    "        - Simulate concurrent updates to database (user info) from multiple users\n",
    "\n",
    "# Final Project Additions/Revision from Feedback\n",
    "\n",
    "### Teacher Feedback\n",
    "\n",
    "- Potentially add more settings to better fulfill expectations of being \"The Settings Guy\"\n",
    "    - Ex: the one I discussed earlier (storing favorite items)\n",
    "- Alter user database data (credentials) form food themed to something that better fits our topics\n",
    "- Employ new teacher requirements discussed in [teacher issue](https://github.com/orgs/nighthawkcoders/projects/12/views/1?pane=issue&itemId=61723349)\n",
    "\n",
    "### Peer Feedback\n",
    "\n",
    "- Add more settings (similar to previous teacher feedback)\n",
    "- May be better to make theme changing change whole page rather than just form container\n",
    "- More security so that users can only change their own Username, UID, etc."
   ]
  },
  {
   "cell_type": "code",
   "execution_count": null,
   "metadata": {},
   "outputs": [],
   "source": [
    "# example of using list comprehension to build fav. item list\n",
    "user = User.query.filter_by(id=user_id).first()\n",
    "favorite_items = [item.name for item in user.favorite_items]"
   ]
  },
  {
   "cell_type": "code",
   "execution_count": null,
   "metadata": {},
   "outputs": [],
   "source": [
    "# example of processing list using conventional methods\n",
    "# conventional method\n",
    "for item in favorite_items:\n",
    "    print(item)\n",
    "# for each method\n",
    "favorite_items_string = ', '.join(favorite_items)\n",
    "print(favorite_items_string)"
   ]
  }
 ],
 "metadata": {
  "language_info": {
   "name": "python"
  },
  "orig_nbformat": 4
 },
 "nbformat": 4,
 "nbformat_minor": 2
}
