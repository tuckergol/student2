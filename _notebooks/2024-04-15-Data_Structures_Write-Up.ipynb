{
 "cells": [
  {
   "cell_type": "markdown",
   "metadata": {},
   "source": [
    "---\n",
    "comments: true\n",
    "layout: post\n",
    "title: Data Structures Write-Up\n",
    "description: Write-Up for Data Structures project.\n",
    "type: tangibles\n",
    "courses: { compsci: {week: 30} }\n",
    "---"
   ]
  },
  {
   "cell_type": "markdown",
   "metadata": {},
   "source": [
    "## Collections\n",
    "\n",
    "### Unique SQLite Data Table\n",
    "\n",
    "<img src=\"write1\">\n",
    "\n",
    "### Model Code for Initializing Table + Creating Test Data"
   ]
  },
  {
   "cell_type": "code",
   "execution_count": null,
   "metadata": {},
   "outputs": [],
   "source": [
    "class Theme(db.Model):\n",
    "    __tablename__ = 'theme_data'\n",
    "    id = db.Column(db.Integer, primary_key=True)\n",
    "    _name = db.Column(db.String(255), unique=False, nullable=False)\n",
    "    _uid = db.Column(db.String(255), unique=True, nullable=False)\n",
    "    _password = db.Column(db.String(255), unique=False, nullable=False)\n",
    "    _role = db.Column(db.String(255))\n",
    "    theme = db.Column(db.String(10), default='light')"
   ]
  },
  {
   "cell_type": "code",
   "execution_count": null,
   "metadata": {},
   "outputs": [],
   "source": [
    "def initTheme():\n",
    "    with app.app_context():\n",
    "        db.create_all()\n",
    "        u1 = Theme(name='Thomas Edison', uid='toby', password='123toby')\n",
    "        u2 = Theme(name='Nicholas Tesla', uid='niko', password='123niko')\n",
    "        u3 = Theme(name='Alexander Graham Bell', uid='lex', password='123bell')\n",
    "        u4 = Theme(name='Grace Hopper', uid='hop', password='123hop')\n",
    "        u5 = Theme(name='Admin', uid='root', password='root', role=\"admin\")\n",
    "        themes = [u1, u2, u3, u4, u5]"
   ]
  }
 ],
 "metadata": {
  "language_info": {
   "name": "python"
  },
  "orig_nbformat": 4
 },
 "nbformat": 4,
 "nbformat_minor": 2
}
