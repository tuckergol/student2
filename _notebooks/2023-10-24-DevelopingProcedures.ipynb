{
 "cells": [
  {
   "cell_type": "markdown",
   "metadata": {},
   "source": [
    "---\n",
    "toc: true\n",
    "comments: false\n",
    "layout: post\n",
    "title: Developing Procedures\n",
    "type: hacks\n",
    "courses: { compsci: {week: 10} }\n",
    "---"
   ]
  },
  {
   "cell_type": "markdown",
   "metadata": {},
   "source": [
    "## 3.12-3.13 Developing Procedures"
   ]
  },
  {
   "cell_type": "markdown",
   "metadata": {},
   "source": [
    "## What is a procedure?\n",
    "\n",
    "A procedure is a named group of programming instructions\n",
    "\n",
    "2 Main Types of Procedures:\n",
    "- Procedure that returns a value of data\n",
    "- Procedure that executes a block of statements\n",
    "\n",
    "## Learning Objective:\n",
    "Be able to look at code and determine the purpose, and be able to write a procedure to manage complexity of program. understand the following terms and what they look like as well as how to use them in code\n",
    "\n",
    "- Procedure Parameters: variables that are defined within the procedure's parentheses and serve as placeholders for values that can be passed to the procedure when it is called, allowing the procedure to operate on different data or values each time it is executed.\n",
    "- Procedure Algorithms: a step-by-step set of instructions that defines a specific task or operation to be performed within a computer program\n",
    "- Procedure Return Values: data or results that a procedure can send back to the part of the program that called it, allowing the procedure to provide information or perform a specific task and then share the outcome with the rest of the program."
   ]
  },
  {
   "cell_type": "markdown",
   "metadata": {},
   "source": [
    "## Name, Parameters, Algorithm, Return Values, and Calling a Procedure"
   ]
  },
  {
   "cell_type": "code",
   "execution_count": 3,
   "metadata": {},
   "outputs": [
    {
     "name": "stdout",
     "output_type": "stream",
     "text": [
      "88\n"
     ]
    }
   ],
   "source": [
    "## Example of Procedure that Updates A Quiz Grade\n",
    "def updatequiz(currentgrade, quizgrade):\n",
    "    if quizgrade > currentgrade:\n",
    "        currentgrade = quizgrade\n",
    "    return currentgrade\n",
    "\n",
    "currentgrade = 75\n",
    "quizgrade = 88\n",
    "currentgrade = updatequiz(currentgrade, quizgrade)\n",
    "print(currentgrade)"
   ]
  },
  {
   "cell_type": "markdown",
   "metadata": {},
   "source": [
    "## Popcorn Hack #1:\n",
    "Identify the name of the procedure below, tell us the purpose and parameters of the procedure and identify the algorithm return value:\n",
    "\n",
    "- Name: update weather\n",
    "- Parameters: Current weather and weather.\n",
    "- Algorithm (paste lines):\n",
    "\n",
    "    if currentweather> weather:\n",
    "        weather = currentweather\n",
    "        print(\"today is warmer than yesterday\")\n",
    "    else:\n",
    "        print(\"today is colder than yesterday\")\n",
    "    return currentgrade\n",
    "\n",
    "- Return Value: currentweather\n",
    "- Calling Procedure Line:\n",
    "\n",
    "currentgrade = updateweather(currentweather, weather)"
   ]
  },
  {
   "cell_type": "code",
   "execution_count": 40,
   "metadata": {},
   "outputs": [
    {
     "name": "stdout",
     "output_type": "stream",
     "text": [
      "today is warmer than yesterday\n",
      "the temperature right now is 71 degrees\n"
     ]
    }
   ],
   "source": [
    "def updateweather(currentweather, weather):\n",
    "    if currentweather> weather:\n",
    "        weather = currentweather\n",
    "        print(\"today is warmer than yesterday\")\n",
    "    else:\n",
    "        print(\"today is colder than yesterday\")\n",
    "    return currentgrade\n",
    "\n",
    "currentweather = 71\n",
    "weather = 66\n",
    "currentgrade = updateweather(currentweather, weather)\n",
    "print(\"the temperature right now is\", currentweather, \"degrees\")"
   ]
  },
  {
   "cell_type": "markdown",
   "metadata": {},
   "source": [
    "## Costructing Classes for Names & Data with Procedures"
   ]
  },
  {
   "cell_type": "code",
   "execution_count": 1,
   "metadata": {},
   "outputs": [],
   "source": [
    "# Class Construction\n",
    "class Short:\n",
    "    name = \"\"\n",
    "    height = 0\n",
    "\n",
    "class Tall:\n",
    "    name = \"\"\n",
    "    height = 0\n",
    "\n",
    "# Procedure to Classify as Short or Tall\n",
    "def classify_person(name, height):\n",
    "    if height < 70:\n",
    "        short_person = Short()\n",
    "        short_person.name = name\n",
    "        return short_person\n",
    "    else:\n",
    "        tall_person = Tall()\n",
    "        tall_person.name = name\n",
    "        return tall_person"
   ]
  },
  {
   "cell_type": "markdown",
   "metadata": {},
   "source": [
    "Class Definitions: The code defines two classes, \"Short\" and \"Tall,\" each having two attributes: name and height. These attributes can be used to store the name and height of individuals.\n",
    "\n",
    "Classification Procedure: The classify_person function takes two parameters: name and height. Depending on the provided height, it creates an instance of either the \"Short\" or \"Tall\" class. It sets the name attribute for the person and returns the corresponding instance."
   ]
  },
  {
   "cell_type": "markdown",
   "metadata": {},
   "source": [
    "## Popcorn Hack #2:\n",
    "Use the example above to use a procedure to create two classes of your choosing. Create at least 2 objects and class them with your procedure"
   ]
  },
  {
   "cell_type": "code",
   "execution_count": 9,
   "metadata": {},
   "outputs": [],
   "source": [
    "# Popcorn Hack 2\n",
    "class Skinny:\n",
    "    name = \"person\"\n",
    "    weight = 130\n",
    "\n",
    "class Fat:\n",
    "    name = \"person2\"\n",
    "    weight = 100000\n",
    "\n",
    "def classify_person(name, weight):\n",
    "    if weight < 160:\n",
    "        skinny_person = Skinny()\n",
    "        skinny_person.name = name\n",
    "        return skinny_person\n",
    "    else:\n",
    "        fat_person = Fat()\n",
    "        fat_person.name = name\n",
    "        return fat_person"
   ]
  },
  {
   "cell_type": "markdown",
   "metadata": {},
   "source": [
    "## Calling Methods of an Object w/ Procedures"
   ]
  },
  {
   "cell_type": "code",
   "execution_count": 12,
   "metadata": {},
   "outputs": [
    {
     "name": "stdout",
     "output_type": "stream",
     "text": [
      "Nihar is Tall.\n",
      "Will is Tall.\n",
      "Jayden is Tall.\n",
      "Howie is Tall.\n"
     ]
    }
   ],
   "source": [
    "# Creating Classes\n",
    "class Short:\n",
    "    name = \"\"\n",
    "    height = 0\n",
    "\n",
    "class Tall:\n",
    "    name = \"\"\n",
    "    height = 0\n",
    "\n",
    "#Procedure to classify as short or tall\n",
    "def classify_height(name, height):\n",
    "    if height < 70:\n",
    "        short_person = Short()\n",
    "        short_person.name = name\n",
    "        return short_person\n",
    "    else:\n",
    "        tall_person = Tall()\n",
    "        tall_person.name = name\n",
    "        return tall_person\n",
    "\n",
    "# Create objects and classify them as short or tall\n",
    "person1 = classify_height(\"Nihar\", 65)\n",
    "person2 = classify_height(\"Will\", 76)\n",
    "person3 = classify_height(\"Jayden\", 75)\n",
    "person4 = classify_height(\"Howie\", 70)\n",
    "\n",
    "# Display results for all four objects\n",
    "for person in [person1, person2, person3, person4]:\n",
    "    print(f\"{person.name} is {'Short' if person is Short else 'Tall'}.\")\n",
    "\n"
   ]
  },
  {
   "cell_type": "markdown",
   "metadata": {},
   "source": [
    "## HW Hacks!!\n",
    "1. Create a procedure that replaces a value with a new one (ex. update height)\n",
    "2. Create a procedure that constructs classes of your choosing and create at least 4 objects to be sorted into your classes. Call your procedure to display your objects."
   ]
  },
  {
   "cell_type": "code",
   "execution_count": 14,
   "metadata": {},
   "outputs": [
    {
     "name": "stdout",
     "output_type": "stream",
     "text": [
      "updated to 72\n",
      "{'name': 'person', 'age': 25, 'height': 72}\n"
     ]
    }
   ],
   "source": [
    "# HW Hack 1\n",
    "def update_height(person_data, new_height):\n",
    "    if \"height\" in person_data:\n",
    "        person_data[\"height\"] = new_height\n",
    "        print(f\"updated to {new_height}\")\n",
    "    else:\n",
    "        print(\"Height data not found in the provided person_data.\")\n",
    "\n",
    "person = {\"name\": \"person\", \"age\": 25, \"height\": 70}\n",
    "new_height = 72\n",
    "update_height(person, new_height)\n",
    "print(person)"
   ]
  },
  {
   "cell_type": "code",
   "execution_count": 24,
   "metadata": {},
   "outputs": [
    {
     "name": "stdout",
     "output_type": "stream",
     "text": [
      "person: bobby, age: 28\n",
      "person: bobber, age: 35\n",
      "car model: toyota camry, year (made): 2020\n",
      "car model: ford mustang, year (made): 2019\n"
     ]
    }
   ],
   "source": [
    "# HW Hack 2\n",
    "\n",
    "class Person:\n",
    "    def __init__(self, name, age):\n",
    "        self.name = name\n",
    "        self.age = age\n",
    "\n",
    "    def __str__(self):\n",
    "        return f\"person: {self.name}, age: {self.age}\"\n",
    "\n",
    "class Car:\n",
    "    def __init__(self, make, model, year):\n",
    "        self.make = make\n",
    "        self.model = model\n",
    "        self.year = year\n",
    "\n",
    "    def __str__(self):\n",
    "        return f\"car model: {self.make} {self.model}, year (made): {self.year}\"\n",
    "\n",
    "# establish/create the objects\n",
    "person1 = Person(\"bobby\", 28)\n",
    "person2 = Person(\"bobber\", 35)\n",
    "car1 = Car(\"toyota\", \"camry\", 2020)\n",
    "car2 = Car(\"ford\", \"mustang\", 2019)\n",
    "\n",
    "# display th objects\n",
    "def display_objects():\n",
    "    print(person1)\n",
    "    print(person2)\n",
    "    print(car1)\n",
    "    print(car2)\n",
    "\n",
    "# calling procedure here\n",
    "display_objects()"
   ]
  }
 ],
 "metadata": {
  "kernelspec": {
   "display_name": "Python 3",
   "language": "python",
   "name": "python3"
  },
  "language_info": {
   "codemirror_mode": {
    "name": "ipython",
    "version": 3
   },
   "file_extension": ".py",
   "mimetype": "text/x-python",
   "name": "python",
   "nbconvert_exporter": "python",
   "pygments_lexer": "ipython3",
   "version": "3.11.4"
  }
 },
 "nbformat": 4,
 "nbformat_minor": 2
}
