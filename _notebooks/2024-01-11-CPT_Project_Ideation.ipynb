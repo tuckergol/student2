{
 "cells": [
  {
   "cell_type": "markdown",
   "metadata": {},
   "source": [
    "---\n",
    "toc: true\n",
    "comments: true\n",
    "layout: post\n",
    "title: CPT Project Ideation\n",
    "type: hacks\n",
    "courses: { compsci: {week: 18} }\n",
    "---"
   ]
  },
  {
   "cell_type": "markdown",
   "metadata": {},
   "source": [
    "### Overview\n",
    "\n",
    "- Project idea: \n",
    "    - Various organized features serve a purpose for those who are interested in events regarding astronomy\n",
    "        - Ex: features including moon phases, weather integration (in relation to stargazing), cosmic events like meteor showers or eclipses (include location and date/time), and dark sky locations\n",
    "    - Database\n",
    "        - Table to register login information\n",
    "            - Login info consists of Username, Password, Password Verification, Email\n",
    "            - Login’s role would be primarily to keep personalized settings\n",
    "\n",
    "### Primary Features\n",
    "---\n",
    "- **Personalized formatting: settings**\n",
    "    - Themes (dark/light theme)\n",
    "        - Frontend; HTML/CSS/JS\n",
    "            - Local storage\n",
    "    - Ability to switch between fahrenheit/celsius for weather system(s)\n",
    "        - Perform calculations between fahrenheit/celsius\n",
    "            - (°F) - 32 * 5/9\n",
    "            - (°C) * 9/5 + 32\n",
    "            - Alternative option: utilize API endpoints that allow unit specification in API requests\n",
    "---\n",
    "- **Calendar containing dates of cosmic events and moon phases**\n",
    "    - API integration\t\n",
    "        - Astronomy APIs provide data → make API requests to fetch data possibly w/ JS + Fetch\n",
    "    - Server-side periodic updates to refresh calendar data (moon phases weekly)\n",
    "    - Calendar Library usage\n",
    "        - JS calendar like FullCalendar could help integrating Library aspects\n",
    "---\n",
    "- **Night sky visibility (use location)**\n",
    "    - Usage of Geolocation API w/ JS → retrieve latitude + longitude\n",
    "        - Denying access would result in the user being unable to use this feature\n",
    "            - Redirection to fail screen or home page (likely following a warning/error message)\n",
    "    - API usage; geolocation data → customize API requests, retrieve visibility info\n",
    "---\n",
    "- **Weather integration, meteorological data (API)**\n",
    "    - API usage most likely sourced from The National Weather Service’s real time APIs\n",
    "        - Relevant parameters, primarily the user’s location, will be registered\n",
    "            - If location info is unavailable, users will be denied access to this feature similarly to the visibility feature\n",
    "    - Parse JSON (client request → server) response from weather API → extract + display data on user interface\n",
    "---\n",
    "- **Astronomy-related blogging**\n",
    "    - Backend supported by a CMS (content management system) like WordPress or Ghost and a database supported by CRUD actions and OOP\n",
    "        - Customize → astronomy\n",
    "    - CMS API (RESTful or GraphQL) to fetch blog posts\n",
    "    - User authentication\n",
    "        - Research led us to possibly using Passport.js in a “Node.js and Express environment”\n",
    "    - JS, SASS, and possibly HTML used to display posts\n",
    "    - Image uploading (storing)\n",
    "---"
   ]
  },
  {
   "cell_type": "markdown",
   "metadata": {},
   "source": [
    "# Feature Mind Map\n",
    "\n",
    "<img src=\"https://github.com/tuckergol/student2/blob/9c55d65f7ccc417c35efed9335e63be894edc572/images/CPT%20Feature%20Mind%20Map.png?raw=true\">"
   ]
  }
 ],
 "metadata": {
  "language_info": {
   "name": "python"
  },
  "orig_nbformat": 4
 },
 "nbformat": 4,
 "nbformat_minor": 2
}
