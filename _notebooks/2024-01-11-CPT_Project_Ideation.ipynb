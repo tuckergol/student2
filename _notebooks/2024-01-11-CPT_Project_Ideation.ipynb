{
 "cells": [
  {
   "cell_type": "markdown",
   "metadata": {},
   "source": [
    "---\n",
    "toc: true\n",
    "comments: true\n",
    "layout: post\n",
    "title: CPT Project Ideation\n",
    "type: hacks\n",
    "courses: { compsci: {week: 18} }\n",
    "---"
   ]
  },
  {
   "cell_type": "markdown",
   "metadata": {},
   "source": [
    "### Overview\n",
    "\n",
    "- Project idea: \n",
    "    - Various organized features serve a purpose for those who are interested in events regarding astronomy\n",
    "        - Ex: features including moon phases, weather integration (in relation to stargazing), cosmic events like meteor showers or eclipses (include location and date/time), and dark sky locations\n",
    "    - Database\n",
    "        - Table to register login information\n",
    "            - Login info consists of Username, Password, Password Verification, Email\n",
    "            - Login’s role would be primarily to keep personalized settings\n",
    "\n",
    "### Primary Features\n",
    "\n",
    "---\n",
    "Member: Alara I.\n",
    "- **Personalized formatting: settings**\n",
    "    - Themes (dark/light theme)\n",
    "        - Frontend; HTML/CSS/JS\n",
    "            - Local storage\n",
    "    - Ability to switch between fahrenheit/celsius for weather system(s)\n",
    "        - Perform calculations between fahrenheit/celsius\n",
    "            - (°F) - 32 * 5/9\n",
    "            - (°C) * 9/5 + 32\n",
    "            - Alternative option: utilize API endpoints that allow unit specification in API requests\n",
    "\n",
    "<img src=\"https://github.com/tuckergol/student2/blob/main/images/!Settings.png?raw=true\">\n",
    "\n",
    "<img src=\"https://github.com/tuckergol/student2/blob/main/images/Settings%20Flowchart.png?raw=true\">\n",
    "\n",
    "---\n",
    "Member: Monika R.\n",
    "- **Calendar containing dates of cosmic events and moon phases**\n",
    "    - API integration\t\n",
    "        - Astronomy APIs provide data → make API requests to fetch data possibly w/ JS + Fetch\n",
    "    - Server-side periodic updates to refresh calendar data (moon phases weekly)\n",
    "    - Calendar Library usage\n",
    "        - JS calendar like FullCalendar could help integrating Library aspects\n",
    "\n",
    "<img src=\"https://github.com/tuckergol/student2/blob/main/images/!Calendar.png?raw=true\">\n",
    "\n",
    "---\n",
    "Member: Abdullah K.\n",
    "- **Dynamic solar system planet (+ sun/moon) visibility hours (in relation to location)**\n",
    "    - API integration\n",
    "        - NASA's Solar System Dynamics Group API --> API key --> authentication --> fetch real time planet data\n",
    "            - Data displayed: illumination (%), hour when rising, hour when setting\n",
    "            - Time zone compensation (dynamic clock hours displayed in table)\n",
    "        - Geocoding API --> categorize city entered in settings to broader location (time zone)\n",
    "            - Recalculate dynamic hours displayed in table on page\n",
    "\n",
    "<img src=\"https://github.com/tuckergol/student2/blob/main/images/!Planets.png?raw=true\">\n",
    "\n",
    "<img src=\"https://github.com/tuckergol/student2/blob/main/images/Dynamic%20Solar%20System%20Data%20Flowchart.png?raw=true\">\n",
    "\n",
    "---\n",
    "Member: Tucker G.\n",
    "- **Night sky visibility (use location)**\n",
    "    - Usage of Geolocation API w/ JS → retrieve city → provide sky data based on general location (ex: San Diego area)\n",
    "        - Denying access would result in the user being unable to use this feature\n",
    "            - Redirection to fail screen or home page (likely following a warning/error message)\n",
    "    - API usage; geolocation data → customize API requests, retrieve visibility info\n",
    "- **Weather integration, meteorological data (API)**\n",
    "    - API usage most likely sourced from The National Weather Service’s real time APIs\n",
    "        - Relevant parameters, primarily the user’s location, will be registered\n",
    "            - If location info is unavailable, users will be denied access to this feature similarly to the visibility feature\n",
    "    - Parse JSON (client request → server) response from weather API → extract + display data on user interface\n",
    "    - Additional ideas could involve displaying real-time space weather data, including solar activity, aurora forecasts, and geomagnetic conditions\n",
    "\n",
    "<img src=\"https://github.com/tuckergol/student2/blob/main/images/!Weather.png?raw=true\">\n",
    "\n",
    "<img src=\"https://github.com/tuckergol/student2/blob/main/images/Weather%20Feature%20Flowchart.png?raw=true\">\n",
    "\n",
    "---\n",
    "Member: Tanuj N.\n",
    "- **Astronomy-related blogging**\n",
    "    - Backend supported by a CMS (content management system) like WordPress or Ghost and a database supported by CRUD actions and OOP\n",
    "        - Customize → astronomy\n",
    "    - CMS API (RESTful or GraphQL) to fetch blog posts\n",
    "    - User authentication\n",
    "        - Research led us to possibly using Passport.js in a “Node.js and Express environment”\n",
    "    - JS, SASS, and possibly HTML used to display posts\n",
    "    - Image uploading (storing)\n",
    "\n",
    "<img src=\"https://github.com/tuckergol/student2/blob/main/images/!Blogging.png?raw=true\">\n",
    "\n",
    "<img src=\"\">\n",
    "\n",
    "---\n",
    "\n",
    "### Jupter Notebook: Research Notes (Code Fragmenting)\n",
    "\n",
    "- Code Fragmenting\n",
    "    - To break down code into smaller segments\n",
    "        - Allows for better readability, modulization (dividing/categorizing), demonstrating step-by-step processes/execution, better documentation (in-code comments primarily), and easier troubleshooting\n",
    "    - Code may be broken up into several different segments to focus on different/individual aspects of a greater task\n",
    "\n",
    "Ex. below from Python Pandas:"
   ]
  },
  {
   "cell_type": "code",
   "execution_count": 1,
   "metadata": {},
   "outputs": [
    {
     "ename": "KeyboardInterrupt",
     "evalue": "",
     "output_type": "error",
     "traceback": [
      "\u001b[0;31m---------------------------------------------------------------------------\u001b[0m",
      "\u001b[0;31mKeyboardInterrupt\u001b[0m                         Traceback (most recent call last)",
      "Cell \u001b[0;32mIn[1], line 2\u001b[0m\n\u001b[1;32m      1\u001b[0m \u001b[39m# Code Fragment 1\u001b[39;00m\n\u001b[0;32m----> 2\u001b[0m \u001b[39mimport\u001b[39;00m \u001b[39mpandas\u001b[39;00m \u001b[39mas\u001b[39;00m \u001b[39mpd\u001b[39;00m\n\u001b[1;32m      4\u001b[0m \u001b[39m# Code Fragment 2\u001b[39;00m\n\u001b[1;32m      5\u001b[0m data \u001b[39m=\u001b[39m pd\u001b[39m.\u001b[39mread_csv(\u001b[39m'\u001b[39m\u001b[39mexample.csv\u001b[39m\u001b[39m'\u001b[39m)\n",
      "File \u001b[0;32m/usr/local/lib/python3.11/site-packages/pandas/__init__.py:11\u001b[0m\n\u001b[1;32m      9\u001b[0m \u001b[39mfor\u001b[39;00m _dependency \u001b[39min\u001b[39;00m _hard_dependencies:\n\u001b[1;32m     10\u001b[0m     \u001b[39mtry\u001b[39;00m:\n\u001b[0;32m---> 11\u001b[0m         \u001b[39m__import__\u001b[39;49m(_dependency)\n\u001b[1;32m     12\u001b[0m     \u001b[39mexcept\u001b[39;00m \u001b[39mImportError\u001b[39;00m \u001b[39mas\u001b[39;00m _e:  \u001b[39m# pragma: no cover\u001b[39;00m\n\u001b[1;32m     13\u001b[0m         _missing_dependencies\u001b[39m.\u001b[39mappend(\u001b[39mf\u001b[39m\u001b[39m\"\u001b[39m\u001b[39m{\u001b[39;00m_dependency\u001b[39m}\u001b[39;00m\u001b[39m: \u001b[39m\u001b[39m{\u001b[39;00m_e\u001b[39m}\u001b[39;00m\u001b[39m\"\u001b[39m)\n",
      "File \u001b[0;32m/usr/local/lib/python3.11/site-packages/numpy/__init__.py:130\u001b[0m\n\u001b[1;32m    127\u001b[0m \u001b[39mfrom\u001b[39;00m \u001b[39m.\u001b[39;00m \u001b[39mimport\u001b[39;00m _distributor_init\n\u001b[1;32m    129\u001b[0m \u001b[39mtry\u001b[39;00m:\n\u001b[0;32m--> 130\u001b[0m     \u001b[39mfrom\u001b[39;00m \u001b[39mnumpy\u001b[39;00m\u001b[39m.\u001b[39;00m\u001b[39m__config__\u001b[39;00m \u001b[39mimport\u001b[39;00m show \u001b[39mas\u001b[39;00m show_config\n\u001b[1;32m    131\u001b[0m \u001b[39mexcept\u001b[39;00m \u001b[39mImportError\u001b[39;00m \u001b[39mas\u001b[39;00m e:\n\u001b[1;32m    132\u001b[0m     msg \u001b[39m=\u001b[39m \u001b[39m\"\"\"\u001b[39m\u001b[39mError importing numpy: you should not try to import numpy from\u001b[39m\n\u001b[1;32m    133\u001b[0m \u001b[39m    its source directory; please exit the numpy source tree, and relaunch\u001b[39m\n\u001b[1;32m    134\u001b[0m \u001b[39m    your python interpreter from there.\u001b[39m\u001b[39m\"\"\"\u001b[39m\n",
      "File \u001b[0;32m/usr/local/lib/python3.11/site-packages/numpy/__config__.py:4\u001b[0m\n\u001b[1;32m      1\u001b[0m \u001b[39m# This file is generated by numpy's build process\u001b[39;00m\n\u001b[1;32m      2\u001b[0m \u001b[39m# It contains system_info results at the time of building this package.\u001b[39;00m\n\u001b[1;32m      3\u001b[0m \u001b[39mfrom\u001b[39;00m \u001b[39menum\u001b[39;00m \u001b[39mimport\u001b[39;00m Enum\n\u001b[0;32m----> 4\u001b[0m \u001b[39mfrom\u001b[39;00m \u001b[39mnumpy\u001b[39;00m\u001b[39m.\u001b[39;00m\u001b[39mcore\u001b[39;00m\u001b[39m.\u001b[39;00m\u001b[39m_multiarray_umath\u001b[39;00m \u001b[39mimport\u001b[39;00m (\n\u001b[1;32m      5\u001b[0m     __cpu_features__,\n\u001b[1;32m      6\u001b[0m     __cpu_baseline__,\n\u001b[1;32m      7\u001b[0m     __cpu_dispatch__,\n\u001b[1;32m      8\u001b[0m )\n\u001b[1;32m     10\u001b[0m __all__ \u001b[39m=\u001b[39m [\u001b[39m\"\u001b[39m\u001b[39mshow\u001b[39m\u001b[39m\"\u001b[39m]\n\u001b[1;32m     11\u001b[0m _built_with_meson \u001b[39m=\u001b[39m \u001b[39mTrue\u001b[39;00m\n",
      "File \u001b[0;32m/usr/local/lib/python3.11/site-packages/numpy/core/__init__.py:24\u001b[0m\n\u001b[1;32m     21\u001b[0m         env_added\u001b[39m.\u001b[39mappend(envkey)\n\u001b[1;32m     23\u001b[0m \u001b[39mtry\u001b[39;00m:\n\u001b[0;32m---> 24\u001b[0m     \u001b[39mfrom\u001b[39;00m \u001b[39m.\u001b[39;00m \u001b[39mimport\u001b[39;00m multiarray\n\u001b[1;32m     25\u001b[0m \u001b[39mexcept\u001b[39;00m \u001b[39mImportError\u001b[39;00m \u001b[39mas\u001b[39;00m exc:\n\u001b[1;32m     26\u001b[0m     \u001b[39mimport\u001b[39;00m \u001b[39msys\u001b[39;00m\n",
      "File \u001b[0;32m/usr/local/lib/python3.11/site-packages/numpy/core/multiarray.py:10\u001b[0m\n\u001b[1;32m      1\u001b[0m \u001b[39m\"\"\"\u001b[39;00m\n\u001b[1;32m      2\u001b[0m \u001b[39mCreate the numpy.core.multiarray namespace for backward compatibility. In v1.16\u001b[39;00m\n\u001b[1;32m      3\u001b[0m \u001b[39mthe multiarray and umath c-extension modules were merged into a single\u001b[39;00m\n\u001b[0;32m   (...)\u001b[0m\n\u001b[1;32m      6\u001b[0m \n\u001b[1;32m      7\u001b[0m \u001b[39m\"\"\"\u001b[39;00m\n\u001b[1;32m      9\u001b[0m \u001b[39mimport\u001b[39;00m \u001b[39mfunctools\u001b[39;00m\n\u001b[0;32m---> 10\u001b[0m \u001b[39mfrom\u001b[39;00m \u001b[39m.\u001b[39;00m \u001b[39mimport\u001b[39;00m overrides\n\u001b[1;32m     11\u001b[0m \u001b[39mfrom\u001b[39;00m \u001b[39m.\u001b[39;00m \u001b[39mimport\u001b[39;00m _multiarray_umath\n\u001b[1;32m     12\u001b[0m \u001b[39mfrom\u001b[39;00m \u001b[39m.\u001b[39;00m\u001b[39m_multiarray_umath\u001b[39;00m \u001b[39mimport\u001b[39;00m \u001b[39m*\u001b[39m  \u001b[39m# noqa: F403\u001b[39;00m\n",
      "File \u001b[0;32m/usr/local/lib/python3.11/site-packages/numpy/core/overrides.py:8\u001b[0m\n\u001b[1;32m      6\u001b[0m \u001b[39mfrom\u001b[39;00m \u001b[39m.\u001b[39;00m\u001b[39m.\u001b[39;00m\u001b[39m_utils\u001b[39;00m \u001b[39mimport\u001b[39;00m set_module\n\u001b[1;32m      7\u001b[0m \u001b[39mfrom\u001b[39;00m \u001b[39m.\u001b[39;00m\u001b[39m.\u001b[39;00m\u001b[39m_utils\u001b[39;00m\u001b[39m.\u001b[39;00m\u001b[39m_inspect\u001b[39;00m \u001b[39mimport\u001b[39;00m getargspec\n\u001b[0;32m----> 8\u001b[0m \u001b[39mfrom\u001b[39;00m \u001b[39mnumpy\u001b[39;00m\u001b[39m.\u001b[39;00m\u001b[39mcore\u001b[39;00m\u001b[39m.\u001b[39;00m\u001b[39m_multiarray_umath\u001b[39;00m \u001b[39mimport\u001b[39;00m (\n\u001b[1;32m      9\u001b[0m     add_docstring,  _get_implementing_args, _ArrayFunctionDispatcher)\n\u001b[1;32m     12\u001b[0m ARRAY_FUNCTIONS \u001b[39m=\u001b[39m \u001b[39mset\u001b[39m()\n\u001b[1;32m     14\u001b[0m array_function_like_doc \u001b[39m=\u001b[39m (\n\u001b[1;32m     15\u001b[0m \u001b[39m    \u001b[39m\u001b[39m\"\"\"like : array_like, optional\u001b[39;00m\n\u001b[1;32m     16\u001b[0m \u001b[39m        Reference object to allow the creation of arrays which are not\u001b[39;00m\n\u001b[0;32m   (...)\u001b[0m\n\u001b[1;32m     20\u001b[0m \u001b[39m        compatible with that passed in via this argument.\"\"\"\u001b[39;00m\n\u001b[1;32m     21\u001b[0m )\n",
      "File \u001b[0;32m<frozen importlib._bootstrap>:216\u001b[0m, in \u001b[0;36m_lock_unlock_module\u001b[0;34m(name)\u001b[0m\n",
      "\u001b[0;31mKeyboardInterrupt\u001b[0m: "
     ]
    }
   ],
   "source": [
    "# Code Fragment 1\n",
    "import pandas as pd\n",
    "\n",
    "# Code Fragment 2\n",
    "data = pd.read_csv('example.csv')\n",
    "\n",
    "# Code Fragment 3\n",
    "data.head()"
   ]
  },
  {
   "cell_type": "markdown",
   "metadata": {},
   "source": [
    "- Code Fragment #1: importing libraries\n",
    "- Code Fragment #2: loading data\n",
    "    - Reading data from CSV file (\"example.csv\") into a Pandas DataFrame\n",
    "- Code Fragment #3: display data\n",
    "    - 'head()': quick way to inspect structure of contents loaded in data\n",
    "\n",
    "---"
   ]
  },
  {
   "cell_type": "markdown",
   "metadata": {},
   "source": [
    "### Methodology\n",
    "\n",
    "- Methodology will involve primarily utilizing issues to measure progress\n",
    "    - Additional: pull requests verify productiveness and value of progress (code being committed)\n",
    "        - Unsatisfactory work → feedback returned to provider → better end product + collaboration\n",
    "    - Issues\n",
    "        - Issue types will consist of To-Do/Backlog, In Progress, Completed Work/Code, + Deployment in repo. to measure progress\n",
    "        - An Issue will be created at the start of the project to establish a clear foundation of expectations and work to be done\n",
    "        - Each teammate will be required to file two Issues per week to measure and communicate progress with team\n",
    "            - Potential adjustments will be made to project to satisfy requirements (To-Do/Backlog, In Progress, Completed Work/Code, + Deployment)\n",
    "\n",
    "---"
   ]
  },
  {
   "cell_type": "markdown",
   "metadata": {},
   "source": [
    "# Feature Mind Map\n",
    "\n",
    "<img src=\"https://github.com/tuckergol/student2/blob/9c55d65f7ccc417c35efed9335e63be894edc572/images/CPT%20Feature%20Mind%20Map.png?raw=true\">"
   ]
  }
 ],
 "metadata": {
  "kernelspec": {
   "display_name": "Python 3",
   "language": "python",
   "name": "python3"
  },
  "language_info": {
   "codemirror_mode": {
    "name": "ipython",
    "version": 3
   },
   "file_extension": ".py",
   "mimetype": "text/x-python",
   "name": "python",
   "nbconvert_exporter": "python",
   "pygments_lexer": "ipython3",
   "version": "3.11.4"
  },
  "orig_nbformat": 4
 },
 "nbformat": 4,
 "nbformat_minor": 2
}
