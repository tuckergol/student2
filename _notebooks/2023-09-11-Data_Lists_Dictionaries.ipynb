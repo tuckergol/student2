{
 "cells": [
  {
   "cell_type": "markdown",
   "metadata": {},
   "source": [
    "---\n",
    "toc: true\n",
    "comments: false\n",
    "layout: post\n",
    "title: Data Types, Lists, & Dictionaries\n",
    "description: This starts off with a log of learning. This was me trying to understand the code by running each segment in different cells.\n",
    "type: hacks\n",
    "courses: { compsci: {week: 4} }\n",
    "---"
   ]
  },
  {
   "cell_type": "code",
   "execution_count": 17,
   "metadata": {},
   "outputs": [
    {
     "name": "stdout",
     "output_type": "stream",
     "text": [
      "What is the variable name/key? value? type? primitive or collection, why?\n",
      "name Tucker Golpariani <class 'str'>\n"
     ]
    }
   ],
   "source": [
    "print(\"What is the variable name/key?\", \"value?\", \"type?\", \"primitive or collection, why?\")\n",
    "name = \"Tucker Golpariani\"\n",
    "print(\"name\", name, type(name))"
   ]
  },
  {
   "cell_type": "markdown",
   "metadata": {},
   "source": [
    "### Note 1\n",
    "Here, a variable is defined, a name (name = \"Tucker Golpariani\") for it to then be printed. It's like a key."
   ]
  },
  {
   "cell_type": "code",
   "execution_count": 16,
   "metadata": {},
   "outputs": [
    {
     "name": "stdout",
     "output_type": "stream",
     "text": [
      "What is the variable name/key? value? type? primitive or collection, why?\n",
      "age 16 <class 'int'>\n"
     ]
    }
   ],
   "source": [
    "print(\"What is the variable name/key?\", \"value?\", \"type?\", \"primitive or collection, why?\")\n",
    "age = 16\n",
    "print(\"age\", age, type(age))"
   ]
  },
  {
   "cell_type": "code",
   "execution_count": 15,
   "metadata": {},
   "outputs": [
    {
     "name": "stdout",
     "output_type": "stream",
     "text": [
      "What is the variable name/key? value? type? primitive or collection, why?\n",
      "score 80.0 <class 'float'>\n"
     ]
    }
   ],
   "source": [
    "print(\"What is the variable name/key?\", \"value?\", \"type?\", \"primitive or collection, why?\")\n",
    "score = 80.0\n",
    "print(\"score\", score, type(score))"
   ]
  },
  {
   "cell_type": "code",
   "execution_count": 4,
   "metadata": {},
   "outputs": [
    {
     "name": "stdout",
     "output_type": "stream",
     "text": [
      "What is variable name/key? value? type? primitive or collection?\n",
      "What is different about the list output?\n",
      "langs ['Python', 'JavaScript', 'Java'] <class 'list'> length 3\n",
      "- langs[0] Python <class 'str'>\n",
      "- langs[1] JavaScript <class 'str'>\n",
      "- langs[2] Java <class 'str'>\n"
     ]
    }
   ],
   "source": [
    "print(\"What is variable name/key?\", \"value?\", \"type?\", \"primitive or collection?\")\n",
    "print(\"What is different about the list output?\")\n",
    "langs = [\"Python\", \"JavaScript\", \"Java\"]\n",
    "print(\"langs\", langs, type(langs), \"length\", len(langs))\n",
    "print(\"- langs[0]\", langs[0], type(langs[0]))\n",
    "print(\"- langs[1]\", langs[1], type(langs[1]))\n",
    "print(\"- langs[2]\", langs[2], type(langs[2]))"
   ]
  },
  {
   "cell_type": "code",
   "execution_count": 18,
   "metadata": {},
   "outputs": [
    {
     "name": "stdout",
     "output_type": "stream",
     "text": [
      "What is the variable name/key? value? type? primitive or collection, why?\n",
      "What is different about the dictionary output?\n",
      "person {'name': 'Tucker Golpariani', 'age': 16, 'score': 80.0, 'langs': ['Python', 'JavaScript', 'Java']} <class 'dict'> length 4\n",
      "- person[\"name\"] Tucker Golpariani <class 'str'>\n",
      "- person[\"age\"] 16 <class 'int'>\n",
      "- person[\"score\"] 80.0 <class 'float'>\n",
      "- person[\"langs\"] ['Python', 'JavaScript', 'Java'] <class 'list'>\n"
     ]
    }
   ],
   "source": [
    "# variable of type dictionary (a group of keys and values)\n",
    "print(\"What is the variable name/key?\", \"value?\", \"type?\", \"primitive or collection, why?\")\n",
    "print(\"What is different about the dictionary output?\")\n",
    "person = {\n",
    "    \"name\": name,\n",
    "    \"age\": age,\n",
    "    \"score\": score,\n",
    "    \"langs\": langs\n",
    "}\n",
    "print(\"person\", person, type(person), \"length\", len(person))\n",
    "print('- person[\"name\"]', person[\"name\"], type(person[\"name\"]))\n",
    "print('- person[\"age\"]', person[\"age\"], type(person[\"age\"]))\n",
    "print('- person[\"score\"]', person[\"score\"], type(person[\"score\"]))\n",
    "print('- person[\"langs\"]', person[\"langs\"], type(person[\"langs\"]))"
   ]
  },
  {
   "cell_type": "markdown",
   "metadata": {},
   "source": [
    "### Note 2\n",
    "Above, it is seen that various variables are defined for them to then be printed. Types of these variables consist of strings, integers, and floats."
   ]
  },
  {
   "cell_type": "code",
   "execution_count": 24,
   "metadata": {},
   "outputs": [
    {
     "name": "stdout",
     "output_type": "stream",
     "text": [
      "[{'FirstName': 'Tucker', 'LastName': 'Golpariani', 'DOB': 'July 19', 'Residence': 'San Diego', 'Email': 'tuckerg09806@stu.powayusd.com', 'Owns_Cars': [\"We don't have personal cars\"]}, {'FirstName': 'William', 'LastName': 'Lee', 'DOB': 'May 3', 'Residence': 'San Diego', 'Email': 'williaml61525@stu.powayusd.com', 'Owns_Cars': [\"We don't have personal cars\"]}]\n"
     ]
    }
   ],
   "source": [
    "# Define an empty List called InfoDb\n",
    "InfoDb = []\n",
    "\n",
    "# InfoDB is a data structure with expected Keys and Values\n",
    "\n",
    "# Append to List a Dictionary of key/values related to a person and cars\n",
    "InfoDb.append({\n",
    "    \"FirstName\": \"Tucker\",\n",
    "    \"LastName\": \"Golpariani\",\n",
    "    \"DOB\": \"July 19\",\n",
    "    \"Residence\": \"San Diego\",\n",
    "    \"Email\": \"tuckerg09806@stu.powayusd.com\",\n",
    "    \"Owns_Cars\": [\"We don't have personal cars\",]\n",
    "})\n",
    "\n",
    "# Append to List a 2nd Dictionary of key/values\n",
    "InfoDb.append({\n",
    "    \"FirstName\": \"William\",\n",
    "    \"LastName\": \"Lee\",\n",
    "    \"DOB\": \"May 3\",\n",
    "    \"Residence\": \"San Diego\",\n",
    "    \"Email\": \"williaml61525@stu.powayusd.com\",\n",
    "    \"Owns_Cars\": [\"We don't have personal cars\"]\n",
    "})\n",
    "\n",
    "# Print the data structure\n",
    "print(InfoDb)"
   ]
  },
  {
   "cell_type": "code",
   "execution_count": 25,
   "metadata": {},
   "outputs": [
    {
     "name": "stdout",
     "output_type": "stream",
     "text": [
      "For loop output\n",
      "\n",
      "Tucker Golpariani\n",
      "\t Residence: San Diego\n",
      "\t Birth Day: July 19\n",
      "\t Cars: We don't have personal cars\n",
      "\n",
      "William Lee\n",
      "\t Residence: San Diego\n",
      "\t Birth Day: May 3\n",
      "\t Cars: We don't have personal cars\n",
      "\n"
     ]
    }
   ],
   "source": [
    "# This jupyter cell has dependencies on one or more cells above\n",
    "\n",
    "# print function: given a dictionary of InfoDb content\n",
    "def print_data(d_rec):\n",
    "    print(d_rec[\"FirstName\"], d_rec[\"LastName\"])  # using comma puts space between values\n",
    "    print(\"\\t\", \"Residence:\", d_rec[\"Residence\"]) # \\t is a tab indent\n",
    "    print(\"\\t\", \"Birth Day:\", d_rec[\"DOB\"])\n",
    "    print(\"\\t\", \"Cars: \", end=\"\")  # end=\"\" make sure no return occurs\n",
    "    print(\", \".join(d_rec[\"Owns_Cars\"]))  # join allows printing a string list with separator\n",
    "    print()\n",
    "\n",
    "\n",
    "# for loop algorithm iterates on length of InfoDb\n",
    "def for_loop():\n",
    "    print(\"For loop output\\n\")\n",
    "    for record in InfoDb:\n",
    "        print_data(record) # call to function\n",
    "\n",
    "for_loop() # call to function"
   ]
  },
  {
   "cell_type": "code",
   "execution_count": 26,
   "metadata": {},
   "outputs": [
    {
     "name": "stdout",
     "output_type": "stream",
     "text": [
      "While loop output\n",
      "\n",
      "Tucker Golpariani\n",
      "\t Residence: San Diego\n",
      "\t Birth Day: July 19\n",
      "\t Cars: We don't have personal cars\n",
      "\n",
      "William Lee\n",
      "\t Residence: San Diego\n",
      "\t Birth Day: May 3\n",
      "\t Cars: We don't have personal cars\n",
      "\n"
     ]
    }
   ],
   "source": [
    "# This jupyter cell has dependencies on one or more cells above\n",
    "\n",
    "# while loop algorithm contains an initial n and an index incrementing statement (n += 1)\n",
    "def while_loop():\n",
    "    print(\"While loop output\\n\")\n",
    "    i = 0\n",
    "    while i < len(InfoDb):\n",
    "        record = InfoDb[i]\n",
    "        print_data(record)\n",
    "        i += 1\n",
    "    return\n",
    "\n",
    "while_loop()"
   ]
  },
  {
   "cell_type": "code",
   "execution_count": 27,
   "metadata": {},
   "outputs": [
    {
     "name": "stdout",
     "output_type": "stream",
     "text": [
      "Recursive loop output\n",
      "\n",
      "Tucker Golpariani\n",
      "\t Residence: San Diego\n",
      "\t Birth Day: July 19\n",
      "\t Cars: We don't have personal cars\n",
      "\n",
      "William Lee\n",
      "\t Residence: San Diego\n",
      "\t Birth Day: May 3\n",
      "\t Cars: We don't have personal cars\n",
      "\n"
     ]
    }
   ],
   "source": [
    "# This jupyter cell has dependencies on one or more cells above\n",
    "\n",
    "# recursion algorithm loops incrementing on each call (n + 1) until exit condition is met\n",
    "def recursive_loop(i):\n",
    "    if i < len(InfoDb):\n",
    "        record = InfoDb[i]\n",
    "        print_data(record)\n",
    "        recursive_loop(i + 1)\n",
    "    return\n",
    "    \n",
    "print(\"Recursive loop output\\n\")\n",
    "recursive_loop(0)"
   ]
  }
 ],
 "metadata": {
  "kernelspec": {
   "display_name": "Python 3",
   "language": "python",
   "name": "python3"
  },
  "language_info": {
   "codemirror_mode": {
    "name": "ipython",
    "version": 3
   },
   "file_extension": ".py",
   "mimetype": "text/x-python",
   "name": "python",
   "nbconvert_exporter": "python",
   "pygments_lexer": "ipython3",
   "version": "3.11.4"
  },
  "orig_nbformat": 4
 },
 "nbformat": 4,
 "nbformat_minor": 2
}
