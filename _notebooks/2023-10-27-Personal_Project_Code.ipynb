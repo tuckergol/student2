{
 "cells": [
  {
   "cell_type": "markdown",
   "metadata": {},
   "source": [
    "---\n",
    "toc: true\n",
    "comments: false\n",
    "layout: post\n",
    "title: My Code for the Project\n",
    "type: hacks\n",
    "courses: { compsci: {week: 11} }\n",
    "---"
   ]
  },
  {
   "cell_type": "markdown",
   "metadata": {},
   "source": [
    "# Parts of the code I contributed"
   ]
  },
  {
   "cell_type": "markdown",
   "metadata": {},
   "source": [
    "### Timer Function"
   ]
  },
  {
   "cell_type": "code",
   "execution_count": null,
   "metadata": {
    "vscode": {
     "languageId": "html"
    }
   },
   "outputs": [],
   "source": [
    "function resetTimer() {\n",
    "    startTime = new Date().getTime();\n",
    "    clearInterval(timerInterval);\n",
    "    timerInterval = setInterval(updateTimer, 10);\n",
    "}\n",
    "\n",
    "function stopTimer() {\n",
    "    clearInterval(timerInterval);\n",
    "}\n",
    "\n",
    "function updateTimer() {\n",
    "    const currentTime = new Date().getTime();\n",
    "    let elapsedTime = currentTime - startTime;\n",
    "\n",
    "    hours = Math.floor(elapsedTime / 3600000);\n",
    "    elapsedTime -= hours * 3600000;\n",
    "\n",
    "    minutes = Math.floor(elapsedTime / 60000);\n",
    "    elapsedTime -= minutes * 60000;\n",
    "\n",
    "    seconds = Math.floor(elapsedTime / 1000);\n",
    "    milliseconds = elapsedTime - (seconds * 1000);\n",
    "\n",
    "    updateTimerDisplay();\n",
    "}\n",
    "\n",
    "function updateTimerDisplay() {\n",
    "    const timerElement = document.getElementById('timer');\n",
    "    timerElement.textContent = `${pad(hours)}:${pad(minutes)}:${pad(seconds)}.${padMilliseconds(milliseconds)}`;\n",
    "}\n",
    "\n",
    "function pad(num) {\n",
    "    return num.toString().padStart(2, '0');\n",
    "}\n",
    "\n",
    "function padMilliseconds(num) {\n",
    "    return num.toString().padStart(3, '0');\n",
    "}"
   ]
  },
  {
   "cell_type": "markdown",
   "metadata": {},
   "source": [
    "### Letter Count (Length off of Answer)\n",
    "\n",
    "NOTE: My specific portion begins after the first \"else\" command. the \"checkGuess\" function is part of Eashaan's contribution."
   ]
  },
  {
   "cell_type": "code",
   "execution_count": null,
   "metadata": {
    "vscode": {
     "languageId": "html"
    }
   },
   "outputs": [],
   "source": [
    "        function checkGuess() {\n",
    "            const userInput = document.getElementById('user-input').value.trim();\n",
    "            if (userInput.toLowerCase() === currentCountry.toLowerCase()) {\n",
    "                document.getElementById('result').innerText = `Congratulations! You guessed it right in ${attempts + 1} attempts.`;\n",
    "                stopTimer();\n",
    "            } else {\n",
    "                attempts++;\n",
    "                const lengthDifference = currentCountry.length - userInput.length;\n",
    "                if (lengthDifference > 0) {\n",
    "                    document.getElementById('result').innerText = `Try again. Your answer is ${lengthDifference} letters too short.`;\n",
    "                } else {\n",
    "                    document.getElementById('result').innerText = `Try again. Your answer is ${Math.abs(lengthDifference)} letters too long.`;\n",
    "                }\n",
    "            }\n",
    "        }"
   ]
  },
  {
   "cell_type": "markdown",
   "metadata": {},
   "source": [
    "### Additional: Images and Country Lists\n",
    "\n",
    "I also put (in list form) many of the countries that were in our project. I also spent hours finding images for each flag and silhouette image for each country.\n",
    "\n",
    "Some country examples of this are sampled below."
   ]
  },
  {
   "cell_type": "code",
   "execution_count": null,
   "metadata": {
    "vscode": {
     "languageId": "html"
    }
   },
   "outputs": [],
   "source": [
    "        const countries = [\n",
    "            \"United States\",\n",
    "            \"United Kingdom\",\n",
    "            \"Canada\",\n",
    "            \"Australia\",\n",
    "            \"France\",\n",
    "            \"Germany\",\n",
    "            \"Italy\",\n",
    "            \"Japan\",\n",
    "            \"China\",\n",
    "            \"India\",\n",
    "            \"Russia\",\n",
    "            \"Brazil\",\n",
    "            \"Mexico\",\n",
    "            \"Spain\",\n",
    "            \"South Africa\",\n",
    "            \"Argentina\",\n",
    "            \"Turkey\",\n",
    "            \"Greece\",\n",
    "            \"Netherlands\",\n",
    "            \"South Korea\",\n",
    "            \"Denmark\",\n",
    "            \"Ireland\",\n",
    "            \"New Zealand\",\n",
    "            \"Singapore\",\n",
    "            \"Thailand\",\n",
    "            \"Vietnam\",\n",
    "            \"Indonesia\",\n",
    "            \"Philippines\",\n",
    "            \"Saudi Arabia\",\n",
    "            \"Qatar\",\n",
    "            \"Israel\",\n",
    "        ];"
   ]
  },
  {
   "cell_type": "markdown",
   "metadata": {},
   "source": [
    "### Country Silhouette Images"
   ]
  },
  {
   "cell_type": "code",
   "execution_count": null,
   "metadata": {
    "vscode": {
     "languageId": "html"
    }
   },
   "outputs": [],
   "source": [
    "        const countryImages = {\n",
    "            \"United States\": \"images/US.png\",\n",
    "            \"United Kingdom\": \"images/UK.png\",\n",
    "            \"Canada\": \"images/Canada.png\",\n",
    "            \"Australia\": \"images/Australia.png\",\n",
    "            \"France\": \"images/France.png\",\n",
    "            \"Germany\": \"images/Germany.png\",\n",
    "            \"Italy\": \"images/Italy.png\",\n",
    "            \"Japan\": \"images/Japan.png\",\n",
    "            \"China\": \"images/China.png\",\n",
    "            \"India\": \"images/India.png\",\n",
    "            \"Russia\": \"images/Russia.png\",\n",
    "            \"Brazil\": \"images/Brazil.png\",\n",
    "            \"Mexico\": \"images/Mexico.png\",\n",
    "            \"Spain\": \"images/Spain.png\",\n",
    "            \"South Africa\": \"images/SouthAfrica.png\",\n",
    "            \"Argentina\": \"images/Argentina.png\",\n",
    "            \"Turkey\": \"images/Turkey.png\",\n",
    "            \"Greece\": \"images/Greece.png\",\n",
    "            \"Netherlands\": \"images/Netherlands.png\",\n",
    "            \"South Korea\": \"images/SouthKorea.jpeg\",\n",
    "            \"Denmark\": \"images/Denmark.png\",\n",
    "            \"Ireland\": \"images/Ireland.png\",\n",
    "            \"New Zealand\": \"images/NewZealand.png\",\n",
    "            \"Singapore\": \"images/Singapore.png\",\n",
    "            \"Thailand\": \"images/Thailand.png\",\n",
    "            \"Vietnam\": \"images/Vietnam.png\",\n",
    "            \"Indonesia\": \"images/Indonesia.png\",\n",
    "            \"Philippines\": \"images/Philippines.png\",\n",
    "            \"Saudi Arabia\": \"images/SaudiArabia.png\",\n",
    "            \"Qatar\": \"images/Qatar.png\",\n",
    "            \"Israel\": \"images/Israel.png\","
   ]
  },
  {
   "cell_type": "markdown",
   "metadata": {},
   "source": [
    "### Flag Images"
   ]
  },
  {
   "cell_type": "code",
   "execution_count": null,
   "metadata": {
    "vscode": {
     "languageId": "html"
    }
   },
   "outputs": [],
   "source": [
    "        const countryFlagImages = {\n",
    "            \"United States\": \"images/USFlag.png\",\n",
    "            \"United Kingdom\": \"images/UKFlag.png\",\n",
    "            \"Canada\": \"images/CanadaFlag.png\",\n",
    "            \"Australia\": \"images/AustraliaFlag.png\",\n",
    "            \"France\": \"images/FranceFlag.png\",\n",
    "            \"Germany\": \"images/GermanyFlag.png\",\n",
    "            \"Italy\": \"images/ItalyFlag.png\",\n",
    "            \"Japan\": \"images/JapanFlag.png\",\n",
    "            \"China\": \"images/ChinaFlag.png\",\n",
    "            \"India\": \"images/IndiaFlag.png\",\n",
    "            \"Russia\": \"images/RussiaFlag.png\",\n",
    "            \"Brazil\": \"images/BrazilFlag.png\",\n",
    "            \"Mexico\": \"images/MexicoFlag.png\",\n",
    "            \"Spain\": \"images/SpainFlag.png\",\n",
    "            \"South Africa\": \"images/SouthAfricaFlag.png\",\n",
    "            \"Argentina\": \"images/ArgentinaFlag.png\",\n",
    "            \"Egypt\": \"images/EgyptFlag.png\",\n",
    "            \"Turkey\": \"images/TurkeyFlag.png\",\n",
    "            \"Greece\": \"images/GreeceFlag.png\",\n",
    "            \"Netherlands\": \"images/NetherlandsFlag.png\",\n",
    "            \"Switzerland\": \"images/SwitzerlandFlag.png\",\n",
    "            \"South Korea\": \"images/SouthKoreaFlag.png\",\n",
    "            \"Sweden\": \"images/SwedenFlag.png\",\n",
    "            \"Norway\": \"images/NorwayFlag.png\",\n",
    "            \"Denmark\": \"images/DenmarkFlag.png\",\n",
    "            \"Ireland\": \"images/IrelandFlag.png\",\n",
    "            \"New Zealand\": \"images/NewZealandFlag.png\",\n",
    "            \"Singapore\": \"images/SingaporeFlag.png\",\n",
    "            \"Malaysia\": \"images/MalaysiaFlag.png\",\n",
    "            \"Thailand\": \"images/ThailandFlag.png\",\n",
    "            \"Vietnam\": \"images/VietnamFlag.png\",\n",
    "            \"Indonesia\": \"images/IndonesiaFlag.png\",\n",
    "            \"Philippines\": \"images/PhilippinesFlag.png\",\n",
    "            \"Saudi Arabia\": \"images/SaudiArabiaFlag.png\",\n",
    "            \"Qatar\": \"images/QatarFlag.png\",\n",
    "            \"Israel\": \"images/IsraelFlag.png\",\n",
    "            \"Jordan\": \"images/JordanFlag.png\",\n",
    "            \"Lebanon\": \"images/LebanonFlag.png\"\n",
    "        };"
   ]
  }
 ],
 "metadata": {
  "language_info": {
   "name": "python"
  },
  "orig_nbformat": 4
 },
 "nbformat": 4,
 "nbformat_minor": 2
}
