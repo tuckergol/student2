{
 "cells": [
  {
   "cell_type": "markdown",
   "metadata": {},
   "source": [
    "---\n",
    "toc: true\n",
    "comments: false\n",
    "layout: post\n",
    "title: Data Abstraction, Variables, Lists...\n",
    "type: hacks\n",
    "courses: { compsci: {week: 7} }\n",
    "---"
   ]
  },
  {
   "cell_type": "markdown",
   "metadata": {},
   "source": [
    "### Variables\n",
    "- Should be very short and simple\n",
    "    - Not complicated\n",
    "\n",
    "### Popcorn Hack"
   ]
  },
  {
   "cell_type": "code",
   "execution_count": 1,
   "metadata": {},
   "outputs": [
    {
     "name": "stdout",
     "output_type": "stream",
     "text": [
      "16\n",
      "Pizza\n"
     ]
    }
   ],
   "source": [
    "age = 16\n",
    "print(age)\n",
    "\n",
    "favoriteFood = \"Pizza\"\n",
    "print(favoriteFood)"
   ]
  },
  {
   "cell_type": "markdown",
   "metadata": {},
   "source": [
    "### Data Types\n",
    "- Integer: a mathematical number\n",
    "- boolean: a yes/no or true/false statement\n",
    "\n",
    "### Examples"
   ]
  },
  {
   "cell_type": "code",
   "execution_count": 10,
   "metadata": {},
   "outputs": [
    {
     "name": "stdout",
     "output_type": "stream",
     "text": [
      "11 is an integer\n",
      "True is a boolean\n",
      "Tucker is a string\n"
     ]
    }
   ],
   "source": [
    "highScore = 11\n",
    "isSunny = True\n",
    "firstName = \"Tucker\"\n",
    "print(str(highScore) + \" is an integer\")\n",
    "print(str(isSunny) + \" is a boolean\")\n",
    "print(firstName + \" is a string\")"
   ]
  },
  {
   "cell_type": "markdown",
   "metadata": {},
   "source": [
    "### Changing Values\n",
    "A variable itself isn't static, so you can change it to give different or more updated information. An example of this is having a variable that calculates changing age.\n",
    "\n",
    "The following example shows how you can replace one variable with another. See if you can figure out what data will be printed before it runs, TUCKER."
   ]
  },
  {
   "cell_type": "code",
   "execution_count": 17,
   "metadata": {},
   "outputs": [
    {
     "name": "stdout",
     "output_type": "stream",
     "text": [
      "10\n"
     ]
    }
   ],
   "source": [
    "currentScore = 10\n",
    "highScore = currentScore\n",
    "currentScore = 7\n",
    "print(str(highScore))"
   ]
  },
  {
   "cell_type": "code",
   "execution_count": 11,
   "metadata": {},
   "outputs": [
    {
     "name": "stdout",
     "output_type": "stream",
     "text": [
      "30\n",
      "30\n",
      "25\n"
     ]
    }
   ],
   "source": [
    "num1 = 25\n",
    "num2 = 15\n",
    "num3 = 30\n",
    "num2 = num3\n",
    "num3 = num1\n",
    "num1 = num2\n",
    "print(str(num1))\n",
    "print(str(num2))\n",
    "print(str(num3))"
   ]
  },
  {
   "cell_type": "markdown",
   "metadata": {},
   "source": [
    "### 3.2 Data Abstraction\n",
    "\n",
    "### New Types of Variables\n",
    "- strings\n",
    "    - an ordered sequence of characters\n",
    "    - may contain letters, numbers, and all other special characters\n",
    "    - ex: words, phrases, sentences, ID numbers\n",
    "- lists (?)\n",
    "    - an ordered sequence of elements\n",
    "    - ex: students in a class, songs in a playlist, etc..."
   ]
  },
  {
   "cell_type": "code",
   "execution_count": 21,
   "metadata": {},
   "outputs": [
    {
     "name": "stdout",
     "output_type": "stream",
     "text": [
      "Tucker\n",
      "Taj\n",
      "Eashaan\n",
      "William\n"
     ]
    }
   ],
   "source": [
    "groupNames = [\"Tucker\", \"Taj\", \"Eashaan\", \"William\"]\n",
    "print(groupNames[0])\n",
    "print(groupNames[1])\n",
    "print(groupNames[2])\n",
    "print(groupNames[3])\n",
    "\n",
    "# it's in order (the integers) in which they will print"
   ]
  },
  {
   "cell_type": "markdown",
   "metadata": {},
   "source": [
    "### Popcorn Hack\n",
    "\n",
    "Try to create a list of your current classes and PRINT ONLY THE SECOND CLASS."
   ]
  },
  {
   "cell_type": "code",
   "execution_count": 31,
   "metadata": {},
   "outputs": [
    {
     "name": "stdout",
     "output_type": "stream",
     "text": [
      "USH\n"
     ]
    }
   ],
   "source": [
    "# these are listed in order for integers (0, 1, 2, 3, 4), so whatever value (number in order) you say to print will print the corresponding in the list\n",
    "\n",
    "currentClasses = [\"AP Stats\", \"USH\", \"AFA\", \"AP CSP\", \"AM LIT 1\"]\n",
    "print(currentClasses[1])"
   ]
  },
  {
   "cell_type": "markdown",
   "metadata": {},
   "source": [
    "### Data Abstraction: Lists\n",
    "- lists allow for data abstraction\n",
    "    - bundle variables together\n",
    "        - strings, numbers, characters, etc...\n",
    "    - give one name to a set of memory cells\n",
    "        - do not need to know how many variables will be needed\n",
    "    - do not need to know how the elements are stored together\n",
    "\n",
    "### Examples"
   ]
  },
  {
   "cell_type": "code",
   "execution_count": 29,
   "metadata": {},
   "outputs": [
    {
     "name": "stdout",
     "output_type": "stream",
     "text": [
      "[23, 25, 96, 55]\n"
     ]
    }
   ],
   "source": [
    "scores1 = [89, 12, 45, 91, 20] # these scores are just random numbers\n",
    "scores2 = [23, 25, 96, 55]\n",
    "scores1 = scores2 # <- prints scores 2 INSTEAD\n",
    "print(str(scores1))"
   ]
  },
  {
   "cell_type": "markdown",
   "metadata": {},
   "source": [
    "### How Lists Manage the Complexity of a Program\n",
    "- May not need as many variables (improves readability)\n",
    "    - Ex: variable for each student is more tedious than one variable that holds all students\n",
    "- Change the number of variables\n",
    "    - Ex: if a student transfers in/out of school, you won't need to add/delete an entire variable (you're just deleting one element from a list)"
   ]
  },
  {
   "cell_type": "markdown",
   "metadata": {},
   "source": [
    "### Homework: Hack 1\n",
    "\n",
    "Sort the variables in the code cell below into these categories and write the adjoining numbers for each type:\n",
    "\n",
    "- Integer: Variable 1\n",
    "- List: Variable 3\n",
    "- Boolean: Variable 4\n",
    "- String: Variable 2"
   ]
  },
  {
   "cell_type": "code",
   "execution_count": 28,
   "metadata": {},
   "outputs": [
    {
     "name": "stdout",
     "output_type": "stream",
     "text": [
      "26\n",
      "Tesla\n",
      "['Tucker', 'Taj', 'Eashaan', 'William']\n",
      "True\n"
     ]
    }
   ],
   "source": [
    "# Variable 1: this is the INTEGER\n",
    "\n",
    "numStudents = 26\n",
    "print(numStudents)\n",
    "\n",
    "# Variable 2: this is the STRING\n",
    "\n",
    "car = \"Tesla\"\n",
    "print(car)\n",
    "\n",
    "# Variable 3: this is the LIST\n",
    "\n",
    "groupNames = [\"Tucker\", \"Taj\", \"Eashaan\", \"William\"]\n",
    "print(groupNames)\n",
    "\n",
    "# Variable 4: this is the BOOLEAN\n",
    "\n",
    "dogsbeatcats = True\n",
    "print(dogsbeatcats)"
   ]
  },
  {
   "cell_type": "markdown",
   "metadata": {},
   "source": [
    "### Homework: Hack 2\n",
    "\n",
    "Define one variable for each type above. Make them surrounding personal unique interest. For the list, convert it to a string using JSON and print it out."
   ]
  },
  {
   "cell_type": "code",
   "execution_count": 3,
   "metadata": {},
   "outputs": [
    {
     "name": "stdout",
     "output_type": "stream",
     "text": [
      "16\n",
      "Tacos\n",
      "['Hiking', 'Video Games', 'Exercising', 'Family', 'Friends']\n",
      "True\n"
     ]
    }
   ],
   "source": [
    "age = 16\n",
    "print(age)\n",
    "\n",
    "favoriteFood = \"Tacos\"\n",
    "print(favoriteFood)\n",
    "\n",
    "favoriteActivities = [\"Hiking\", \"Video Games\", \"Exercising\", \"Family\", \"Friends\"]\n",
    "print(favoriteActivities)\n",
    "\n",
    "livesOnEarth = True\n",
    "print(livesOnEarth)"
   ]
  },
  {
   "cell_type": "code",
   "execution_count": 3,
   "metadata": {},
   "outputs": [
    {
     "name": "stdout",
     "output_type": "stream",
     "text": [
      "<class 'list'>\n",
      "[\"Hiking\", \"Video Games\", \"Exercising\", \"Family\", \"Friends\"]\n",
      "<class 'str'>\n"
     ]
    }
   ],
   "source": [
    "import json\n",
    "favoriteActivities = [\"Hiking\", \"Video Games\", \"Exercising\", \"Family\", \"Friends\"]\n",
    "print(type(favoriteActivities))\n",
    "a = json.dumps(favoriteActivities)\n",
    "print(a)\n",
    "print(type(a))"
   ]
  },
  {
   "cell_type": "code",
   "execution_count": 1,
   "metadata": {},
   "outputs": [
    {
     "name": "stdout",
     "output_type": "stream",
     "text": [
      "<class 'list'>\n",
      "[1, 2, 3, 4]\n",
      "<class 'str'>\n"
     ]
    }
   ],
   "source": [
    "import json\n",
    "lst = [1,2,3,4]\n",
    "print(type(lst))\n",
    "a = json.dumps(lst)\n",
    "print(a)\n",
    "print(type(a))"
   ]
  }
 ],
 "metadata": {
  "kernelspec": {
   "display_name": "Python 3",
   "language": "python",
   "name": "python3"
  },
  "language_info": {
   "codemirror_mode": {
    "name": "ipython",
    "version": 3
   },
   "file_extension": ".py",
   "mimetype": "text/x-python",
   "name": "python",
   "nbconvert_exporter": "python",
   "pygments_lexer": "ipython3",
   "version": "3.11.4"
  },
  "orig_nbformat": 4
 },
 "nbformat": 4,
 "nbformat_minor": 2
}
