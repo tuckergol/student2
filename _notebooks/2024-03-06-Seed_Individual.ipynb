{
 "cells": [
  {
   "cell_type": "markdown",
   "metadata": {},
   "source": [
    "---\n",
    "toc: true\n",
    "comments: true\n",
    "layout: post\n",
    "title: Seed (Individual)\n",
    "description: Individual portion of Seed for Trimester 3.\n",
    "type: tangibles\n",
    "courses: { compsci: {week: 25} }\n",
    "---"
   ]
  },
  {
   "cell_type": "markdown",
   "metadata": {},
   "source": [
    "# Qualifications for Individual Seed\n",
    "\n",
    "### I believe I deserve **100%** on IndividualSeed (3.0/3.0); justfication below\n",
    "\n",
    "**93% or Better in Last Trimester of CSP**\n",
    "\n",
    "<img src=\"https://github.com/tuckergol/student2/blob/main/images/SeedIndi1.png?raw=true\">\n",
    "\n",
    "**Contributor to Team Work:** \n",
    "\n",
    "Consistently, me, David Lee, and Matthew Wang quite equally contributed to the project and each fostered Team collaboration and communication in helping each other and developing work and ideas/solutions. This was heavily reliant on our ability to communicate frequently online using discord. Total message count below (1736 total messages).\n",
    "\n",
    "<img src=\"https://github.com/tuckergol/student2/blob/main/images/SeedIndi2.png?raw=true\">\n",
    "\n",
    "**Following Team Planning** (fulfilled Team Ideation in completing coding work and collaborating)\n",
    "\n",
    "Trimester 2 CPT Project Team Planning/Progress Issues\n",
    "- [Initial Project Ideation w/ Dedicated Individual Features](https://github.com/DavidL0914/frontcasts/issues/2)\n",
    "- [Progress Issue](https://github.com/DavidL0914/frontcasts/issues/3)\n",
    "- [Progress Issue](https://github.com/DavidL0914/frontcasts/issues/1)\n",
    "\n",
    "**AP Work/Preparation:**\n",
    "\n",
    "I have maintained positive outcomes for AP preparation thus far. Quality and originality can be proven by the positive feedback from Teacher on the major AP preparation blogs/projects/assignments (primarily Practice College Board MCQ and Practice CPT from Trimester 2).\n",
    "\n",
    "- [CPT Blog: Write-Up](https://tuckergol.github.io/student2//2024/02/15/Final_Reflection_Tri2_IPYNB_2_.html)\n",
    "- [Practice College Board MCQ Trimester 2](https://tuckergol.github.io/student2//2023/12/21/MCQ_Reflection_IPYNB_2_.html)\n",
    "\n",
    "**Usage of Personal Blog to Document Progress - [Time Box Linked Here](https://tuckergol.github.io/student2/compsci)**\n",
    "\n",
    "- Plans and Review Tickets/Reflections present\n",
    "- Documentation of Team Teaches and other assignments\n",
    "- Final reflections like N@tM and Seed reviews\n",
    "\n",
    "<img src=\"https://github.com/tuckergol/student2/blob/main/images/SeedIndi3.png?raw=true\">"
   ]
  }
 ],
 "metadata": {
  "language_info": {
   "name": "python"
  },
  "orig_nbformat": 4
 },
 "nbformat": 4,
 "nbformat_minor": 2
}
