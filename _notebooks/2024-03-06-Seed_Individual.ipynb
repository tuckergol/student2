{
 "cells": [
  {
   "cell_type": "markdown",
   "metadata": {},
   "source": [
    "---\n",
    "toc: true\n",
    "comments: true\n",
    "layout: post\n",
    "title: Seed (Individual)\n",
    "description: Individual portion of Seed for Trimester 3.\n",
    "type: tangibles\n",
    "courses: { compsci: {week: 25} }\n",
    "---"
   ]
  },
  {
   "cell_type": "markdown",
   "metadata": {},
   "source": [
    "# Qualifications for Individual Seed\n",
    "\n",
    "- CPT Project: [Frontend](https://github.com/DavidL0914/frontcasts)\n",
    "- CPT Project: [Backend](https://github.com/DavidL0914/backcasts)\n",
    "- Feature is changing Username and Theme\n",
    "    - Change between light/dark\n",
    "    - Username change: enter credentials, change Username\n",
    "\n",
    "<img src=\"https://github.com/tuckergol/student2/blob/main/images/SeedIndi4.png?raw=true\">\n",
    "\n",
    "- Future of feature (improvements, feedback)\n",
    "    - More obvious theme change\n",
    "        - Already implemented (made settings container change between dark/light too)\n",
    "    - Main critique was with video (not CPT ready; prolonged subtitles, lacked better/quick presentation...)\n",
    "\n",
    "### Contributor to Team Work\n",
    "\n",
    "Consistently, me, David Lee, and Matthew Wang quite equally contributed to the project and each fostered Team collaboration and communication in helping each other and developing work and ideas/solutions. This was heavily reliant on our ability to communicate frequently online using discord. Total message count below (1736 total messages).\n",
    "\n",
    "<img src=\"https://github.com/tuckergol/student2/blob/main/images/SeedIndi2.png?raw=true\">\n",
    "\n",
    "- GitHub Analytics: [Frontend](https://github.com/DavidL0914/frontcasts/graphs/contributors)\n",
    "- GitHub Analytics [Backend](https://github.com/DavidL0914/backcasts/graphs/contributors)\n",
    "\n",
    "### Team Planning/Project Ideation\n",
    "\n",
    "Trimester 2 CPT Project Team Planning/Progress Issues\n",
    "- [Initial Project Ideation w/ Dedicated Individual Features](https://github.com/DavidL0914/frontcasts/issues/2)\n",
    "- [Progress Issue](https://github.com/DavidL0914/frontcasts/issues/3)\n",
    "- [Progress Issue](https://github.com/DavidL0914/frontcasts/issues/1)\n",
    "\n",
    "### AP Work/Preparation\n",
    "\n",
    "I have maintained positive outcomes for AP preparation thus far. Quality and originality can be proven by the positive feedback from Teacher on the major AP preparation blogs/projects/assignments (primarily Practice College Board MCQ and Practice CPT from Trimester 2).\n",
    "\n",
    "- [CPT Blog: Write-Up](https://tuckergol.github.io/student2//2024/02/15/Final_Reflection_Tri2_IPYNB_2_.html)\n",
    "- [Practice College Board MCQ Trimester 2](https://tuckergol.github.io/student2//2023/12/21/MCQ_Reflection_IPYNB_2_.html)\n",
    "\n",
    "### Usage of Personal Blog to Document Progress - [Time Box](https://tuckergol.github.io/student2/compsci)\n",
    "\n",
    "- Plans and Review Tickets/Reflections present\n",
    "- Documentation of Team Teaches and other assignments\n",
    "- Final reflections like N@tM and Seed reviews"
   ]
  },
  {
   "cell_type": "markdown",
   "metadata": {},
   "source": [
    "### Additional: Pandas Blog/Article Notes\n",
    "\n",
    "- Data interaction: in everyday life, especially in STEM fields like medicine, data science, and computer science\n",
    "- Pandas: a popular Python library for data manipulation, querying, and filtering essentially\n",
    "- Data formats: two common data formats which are JSON and CSV\n",
    "    - JSON is represented by key-value pairs (incorporates ordered lists of values)\n",
    "    - CSV separates data by commas\n",
    "- As for data analysis and stuff, we see utilizing Pandas to calculate and display statistics such as count, mean, and standard deviation of the dataset\n",
    "    - This is cool because my knowledge of statistics can come in handy (I am currently enrolled in AP Statistics!!)\n",
    "        - Interesting to see the correlation and connections between different STEM fields and variety of use cases\n",
    "- We can sort data\n",
    "- Key takeaways\n",
    "    - Datasets: using Pandas capabilities for filtering, grouping, and performing calculations\n",
    "    - Real-world applications\n",
    "        - Ex: mean household income by state for determining the most affordable places to live, finding minimum household income..."
   ]
  }
 ],
 "metadata": {
  "language_info": {
   "name": "python"
  },
  "orig_nbformat": 4
 },
 "nbformat": 4,
 "nbformat_minor": 2
}
