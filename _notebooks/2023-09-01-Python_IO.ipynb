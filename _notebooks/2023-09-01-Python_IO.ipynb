{
 "cells": [
  {
   "cell_type": "markdown",
   "metadata": {},
   "source": [
    "---\n",
    "toc: true\n",
    "comments: true\n",
    "layout: post\n",
    "title: Python IO\n",
    "type: hacks\n",
    "courses: { compsci: {week: 1} }\n",
    "---"
   ]
  },
  {
   "cell_type": "code",
   "execution_count": 2,
   "metadata": {},
   "outputs": [
    {
     "name": "stdout",
     "output_type": "stream",
     "text": [
      "Hello, tucker running /usr/local/opt/python@3.11/bin/python3.11\n",
      "You will be asked 3 questions.\n",
      "Question: Are you ready to take a test?\n",
      "Question: In what year was Yosemite National Park founded?\n",
      "1890 is correct!\n",
      "Question: On average, around how many hundred thousand visitors does Crater Lake get annually?\n",
      "5 is correct!\n",
      "Question: True or false: was Yellowstone the first national park founded?\n",
      "true is correct!\n",
      "tucker, you scored 3/3\n"
     ]
    }
   ],
   "source": [
    "import getpass\n",
    "import sys\n",
    "\n",
    "def question_with_response(prompt):\n",
    "    print(\"Question: \" + prompt)\n",
    "    msg = input()\n",
    "    return msg\n",
    "\n",
    "questions = [\n",
    "    {\"question\": \"In what year was Yosemite National Park founded?\", \"answer\": \"1890\"},\n",
    "    {\"question\": \"On average, around how many hundred thousand visitors does Crater Lake get annually?\", \"answer\": \"5\"},\n",
    "    {\"question\": \"True or false: was Yellowstone the first national park founded?\", \"answer\": \"true\"}\n",
    "]\n",
    "\n",
    "correct = 0\n",
    "\n",
    "print('Hello, ' + getpass.getuser() + \" running \" + sys.executable)\n",
    "print(\"You will be asked \" + str(len(questions)) + \" questions.\")\n",
    "\n",
    "question_with_response(\"Are you ready to take a test?\")\n",
    "\n",
    "for question_data in questions:\n",
    "    rsp = question_with_response(question_data[\"question\"])\n",
    "    if rsp.lower() == question_data[\"answer\"]:\n",
    "        print(rsp + \" is correct!\")\n",
    "        correct += 1\n",
    "    else:\n",
    "        print(rsp + \" is incorrect!\")\n",
    "\n",
    "print(getpass.getuser() + \", you scored \" + str(correct) + \"/\" + str(len(questions)))"
   ]
  }
 ],
 "metadata": {
  "kernelspec": {
   "display_name": "Python 3",
   "language": "python",
   "name": "python3"
  },
  "language_info": {
   "codemirror_mode": {
    "name": "ipython",
    "version": 3
   },
   "file_extension": ".py",
   "mimetype": "text/x-python",
   "name": "python",
   "nbconvert_exporter": "python",
   "pygments_lexer": "ipython3",
   "version": "3.11.4"
  },
  "orig_nbformat": 4
 },
 "nbformat": 4,
 "nbformat_minor": 2
}
