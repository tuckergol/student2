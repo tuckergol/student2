{
 "cells": [
  {
   "cell_type": "markdown",
   "metadata": {},
   "source": [
    "---\n",
    "toc: true\n",
    "comments: true\n",
    "layout: post\n",
    "title: N@tM Reflection Blog\n",
    "description: Reflection blog for N@tM 2/16/24\n",
    "type: tangibles\n",
    "courses: { compsci: {week: 23} }\n",
    "---"
   ]
  },
  {
   "cell_type": "markdown",
   "metadata": {},
   "source": [
    "# Reflection - CPT Feedback\n",
    "\n",
    "### Glows/Grows\n",
    "\n",
    "- Glows\n",
    "     - The and project appeared engaging to many other N@tM attendees\n",
    "     - Site visuals and UI complemented to be efficient, sleek, and simple/easy to understand\n",
    "     - Recipe browsing/navigation was enjoyed quite a bit\n",
    "        - Explained the ideas of pulling data (API usage in simple, non CompSci/normally understandable terms) and populating the frontend with that information\n",
    "- Grows\n",
    "    - The primary feedback we got was regarding our recipe browsing and communal aspect of sharing/uploading cooking-related comments\n",
    "        - Approximate question: \"what's the difference between just googling and browsing recipes on Google? Why does this site matter instead?\"\n",
    "            - The solution proposed was to add more variety in our communal blogging feature\n",
    "                - Users should be able to upload/tag recipes to enhance the variety found in the communal aspect/blogging of the project to not only enhance that feature itself but also improve the site overall in encouraging more interactibility between our other features, primarily the recipe browsing\n",
    "    - Our rehearsed presentation work was a bit off, we could have presented more efficiently\n",
    "        - Better organization...\n",
    "        - Better flow would have been navigating through Home --> brief demo of Login/authentication --> feature by feature\n",
    "\n",
    "### Feature Feedback (Individual)\n",
    "\n",
    "- My User Settings feature was boring   \n",
    "    - Felt more like a side addition compared to how the other features were presented\n",
    "        - Feature too simple\n",
    "    - Feedback: add more customizability/more inner features within the customizable settings\n",
    "        - Ex: implement other settings--font size changing, better \"Save Settings\" system (theme automatically applies with the press of the theme-changing button, currently)\n",
    "\n",
    "### General Blog on Event - N@tM 02/15/24\n",
    "\n",
    "Following our group's presentation time, I saw a lot of cool things as I went through the CompSci room. The really impressive stuff, I thought, were the CSA projects (not surprising). Seeing the development of other projects at a level higher than mine genuinely got me more intrigued to not only the N@tM event compared to last Trimester, but also more invested into the CompSci possibilites here at Del Norte in general. A cool project I saw focused on browsing businesses and \"investing\" into them. Features involved being able to browse tons of different open businesses and \"invest\" in them (another cool aspect of this I hadn't thought about too much in this class regarding the CPT project--there was a legal disclaimer that conveyed users wouldn't actually be investing into businesses and it is more so a virtual demonstration of saving/providing input and output. Legal aspects are especially important in CompSci due to how much content is being distributed and reused/modified all the time: recalled my Legal & Ethical Concerns learning). This project was similar to our project in most respects, primarily just focusing on a different topic. And it was essentially an enhanced version of our project due to the similar feature concepts (ex: API-sourced browsing, navigate businesses by clicking on them, user data storing...), which impressed me in showing how much more complicated the things that we are currently doing in CSP can really get.\n",
    "\n",
    "something you saw in CompSci that impressed\n",
    "something you saw outside of CompSci that you liked"
   ]
  }
 ],
 "metadata": {
  "language_info": {
   "name": "python"
  },
  "orig_nbformat": 4
 },
 "nbformat": 4,
 "nbformat_minor": 2
}
