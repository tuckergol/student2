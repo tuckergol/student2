{
 "cells": [
  {
   "cell_type": "markdown",
   "metadata": {},
   "source": [
    "---\n",
    "comments: true\n",
    "toc: true\n",
    "layout: post\n",
    "title: Final Interview\n",
    "description: Blog for Final Interview to wrap up AP Computer Science Principles of 2023-2024.\n",
    "type: tangibles\n",
    "courses: { compsci: {week: 37} }\n",
    "---"
   ]
  },
  {
   "cell_type": "markdown",
   "metadata": {},
   "source": [
    "## Desired Position\n",
    "\n",
    "I believe that I have potential as a Project Manager. This is because I have proven myself in being able to manage and facilitate work while keeping my group on track towards our primary goal(s)."
   ]
  },
  {
   "cell_type": "markdown",
   "metadata": {},
   "source": [
    "## LinkedIn\n",
    "\n",
    "I made a LinkedIn profile to establish my computer science accomplishments this year (2023-2024 AP Computer Science Principles) and summarize by abilities and learning(s) in general. The link to my page can be found here: [link to LinkedIn profile](https://www.linkedin.com/in/tucker-golpariani-a4447b310/)."
   ]
  },
  {
   "cell_type": "markdown",
   "metadata": {},
   "source": [
    "# Introduction\n",
    "\n",
    "## Intersection of Key Interests and Coding\n",
    "\n",
    "- **Video games**\n",
    "    - I love to play video games with my friends and family, and have played them for years, still continuing to to this day occasionally when I have free time\n",
    "    - Creating games: having learned various coding languages (like Python, JS, etc.) can obviously allow for development of my own digital utilties/games\n",
    "    - Modding: there are many games that support modding, which allows me to use code to modify/extend a game's capabilities\n",
    "        - My knowledge of coding may allow me to customize various aspects of games to my own preference, or just generally modify code and include additional functionalities as a hobby\n",
    "    - AI/ML role\n",
    "        - Use algorithms to generate dynamic content\n",
    "        - Create characters/NPCs\n",
    "- **Nature**\n",
    "    - I've always loved spending time in nature since I was very young, loving to hike, run, bike, and camp outdoors as much as I can, obtaining an interest in environmental science\n",
    "    - Data collection/analysis: coding can help in collecting and analyzing environmental data\n",
    "        - Ex: Python and R are commonly used for data science projects involving large sets of data, in my case environmental data\n",
    "            - I have already been using R in my AP Statistics class to pursue additional learning(s) regarding data science, so that plays a pretty big role\n",
    "    - I can contribute to applications or datasets that help in tracking wildlife, plant growth, or environmental changes\n",
    "    - Another potential intersection between the computer science field and nature is regarding ecosystem simulaton: coding can be used to create simulations of ecosystems to study different factors affect the environment\n",
    "- **Spending time with friends and family**\n",
    "    - I love to spend as much time as possible with my friends and family\n",
    "    - Social platforms: coding is the foundation of apps or platforms where friends or family can connect or share content\n",
    "        - My learnings in data management, HTML, CSS, and JS can be helpful here\n",
    "    - Multiplayer games, servers: I enjoy playing multiplayer games with my friends, so obviously coding can help contribute to the development of or contribution to similar applications\n",
    "    - Event planning tools: I can also plan gatherings/meetups with online applications or utilties to store data using various algorithms, possibly even incorporating ML to plan better and maintain more value overall\n",
    "- **Exercise/fitness**\n",
    "    - I maintain a somewhat large focus on fitness in my life currently, exercising almost every morning before school and occasionally prioritizing my diet to be optimal\n",
    "    - Fitness tracking apps\n",
    "        - I already use these for my fitness, so there is already digital application in my life\n",
    "        - Developing apps: I can create fitness tracking algorithms to monitor workouts, track progress, and set fitness goals\n",
    "    - Integrating with wearables: coding also has a role in interface with fitness wearables (like smartwatches) to gather data and provide insights\n",
    "    - Diet planning: the previously-mentioned fitness apps can help with this, but so can my own coding knowledge to create various algorithms or even incorporate ML to provide optimal advice based on user circumstances"
   ]
  },
  {
   "cell_type": "markdown",
   "metadata": {},
   "source": [
    "# Projects and Teamwork\n",
    "\n",
    "## Projects\n",
    "\n",
    "Throughout my computer science experience this year, I have worked on many different coding projects, developing throughout the year to become increasingly complicated and challenging, yet yielding a more signficant result. In order to produce valuable work, I had to work effectively with my teams in order to pursue our goal in an organized manner with stategies like Agile Methodology, Ideation, and other forms of planning.\n",
    "\n",
    "- Trimester 1\n",
    "    - **Passion Project**\n",
    "        - Idea was to create a Geoguessr-like game, where users would recieve a random flag or country shape and have to type in the correct country name to gain points\n",
    "        - Was somewhat unsuccessful due to lack of impressiveness, as was not too backend heavy at all and more just focused on frontend work with JS and HTML to develop a fairly simple project that wasn't too valuable, but provided a lot of fun for me, my group members, my classmates, and N@tM attenders who played the game\n",
    "        - Teamwork: although one of my other three teammates had done some of the work, I had been the doing almost everything for the project regarding the coding and presentational organization\n",
    "            - Although this was bad, it provided a foundation for improvement to follow with better teamwork in following Trimesters\n",
    "- Trimester 2\n",
    "    - **Binary Logic Project**\n",
    "        - My feature was to create an introduction to binary for users, where users could press buttons to trigger them between states of \"0\" and \"1\" and see what number the collection of bits would total to\n",
    "        - Users could add and subtract from total number of bits to better understand binary basics\n",
    "        - This project was successful, especially compared to my Trimester 1 Passion Project, as not only was there more efficiency present in greater teamwork, but also additional knowledge acquired regarding both how to code and binary\n",
    "        - Teamwork: my team and I had had a rough start originally, with unorganized ideation and an unclear idea of expectations initially\n",
    "            The teamwork for this project, however, eventually improved greatly with my new group compared to Trimester 1, as we employed strategies with Agile Methodologies to better organize our own roles and pursue a generally more efficient method of getting work done, providing me with a better idea of how to work in a team overall\n",
    "    - **Practice CPT Project**\n",
    "        - Team topic for the project was a cookbook, but my feature was quite unrelated being user settings, where users could change the page theme between light and dark and change their own username\n",
    "            - Was partially successful, as while I struggled heavily with my project initially, I still learned a lot from it because I managed to improve greatly in the future (the original work I did in Trimester 2 provided a foundation for the improvements I would make to the feature in Trimester 3 for the Data Structures and Final Projects)\n",
    "                - Teamwork was also best I'd experienced yet with a new group, with concentrated and hard-working teammates willing to work together efficiently to produce a good project\n",
    "        - Teamwork: teamwork followed similarly to the Binary Logic Project with my new group for this project, with us employing organized planning for ideation and Agile Methodology to better establish our roles in the team and get work done as efficiently as possible\n",
    "- Trimester 3\n",
    "    - **Data Structures**\n",
    "        - This project involved much CPT finalization regarding the previous Trimester's practice CPT feature\n",
    "            - Our team initially struggled in meeting expectations, but we reviewed our project again with Teacher following revision and managed to show good improvement\n",
    "            - I greatly improved my settings feature by reworking it completely in order to utilize team login and incorporate it into the rest of my team's original features and a single user database\n",
    "        - Teamwork: organized communication was a signficantly more important requirement for this project compared to past ones, as it was six people who were required to implement their own past feature(s) into the same repositories (frontend and backend) to create a unanimous site with integrated work from several different students\n",
    "            - Despite having difficulty employing strategies like Agile Methodology, we still implemented organized ideation and planning in order to accomplish what was required and managed to communicate well enough both online and in class to successfully integrate everything together\n",
    "    - **Final Project**\n",
    "        - This project involved finalization of work from Data Structures Project to create work that represents the true capabilities that we as computer science students have acquired throughout the year, requiring any final adjustments or additions possible and implementation of one new requirement (of 5 possible given) to top off work in becoming a Full Stack Developer\n",
    "        - I was more proud of this coding project than any previous one before, demonstrating a long-term progression of improvement in work over the course of the year\n",
    "            - In addition to the amount of work I had been put into the project, I was proud because it was the most organized and overall well-put together project I had made yet\n",
    "        - Teamwork: as a team, we decided which new requirements would be appropriate for each of our own pairs to incorporate into our past Data Structures features and developed ideation documentation to track accomplishments and provide a clear base for our own goals"
   ]
  },
  {
   "cell_type": "markdown",
   "metadata": {},
   "source": [
    "# Teamwork Methodologies and Artifacts\n",
    "\n",
    "## Teamwork Methodologies\n",
    "\n",
    "- **Agile Methodology**\n",
    "    - Consists of a cycle of coordinationd and documentation that involves various practices and principles...\n",
    "        - Core Principles\n",
    "            - Individuals and interactions over processes and tools\n",
    "            - Working software over comprehensive documentation\n",
    "            - Responding to change over following a plan\n",
    "        - Key Practices\n",
    "            - Sprints: short, time-boxed iterations (typically 1-4 weeks) to develop and deliver usable software\n",
    "            - Daily standups: brief, daily meetings to discuss progress, plans, and impediments\n",
    "            - Continuous integration: regularly integrating code changes into a shared repository\n",
    "    - Integrated in my own experiences with teamwork planning and work organization for efficiency, communciation with one another and recieving feedback and revising accordingly to produce the most valuable work possible\n",
    "- **Ideation/Planning**\n",
    "    - Consists of planning based off of given circumstances...\n",
    "        - Goal-setting: clearly define objective\n",
    "        - Research and analysis: gather relevant info and analyze current conditions, constraints, opportunities, etc.\n",
    "        - Strategy development: establish strategies and approaches to achieve the goals\n",
    "        - Task identification: break down strategy into specific tasks and activities\n",
    "        - Timeline creation: develop a schedule/day-by-day plan with deadlines/milestones\n",
    "        - Monitoring and adjustment: implement the plan and regularly review progress, making adjustments as needed\n",
    "    - Implemented in my own work with teams in creating various GitHub issues and blogs to plan work and ideate solutions to problems, establishing a foundation for work that would follow\n",
    "\n",
    "## Artifacts of Participation\n",
    "\n",
    "<img src=\"https://github.com/tuckergol/student2/blob/main/images/blog1.png?raw=true\">\n",
    "\n",
    "- Overall contributions to major projects\n",
    "    - [Passion Project](https://github.com/tuckergol/PassionProject7/graphs/contributors)\n",
    "    - [Binary Logic Project](https://github.com/tuckergol/binarylogicrepo/graphs/contributors)\n",
    "    - [Practice CPT Project Backend](https://github.com/DavidL0914/backcasts/graphs/contributors), [Practice CPT Project Frontend](https://github.com/DavidL0914/frontcasts/graphs/contributors)\n",
    "    - [Data Structures/Final Project Backend](https://github.com/tuckergol/backgang/graphs/contributors), [Data Structures/Final Project Frontend](https://github.com/tuckergol/frontgang/graphs/contributors)\n",
    "- Commits for major projects\n",
    "    - [Passion Project](https://github.com/tuckergol/PassionProject7/commits?author=tuckergol)\n",
    "    - [Binary Logic Project](https://github.com/tuckergol/binarylogicrepo/commits?author=tuckergol)\n",
    "    - [Practice CPT Project Backend](https://github.com/DavidL0914/backcasts/commits?author=tuckergol), [Practice CPT Project Frontend](https://github.com/DavidL0914/frontcasts/commits?author=tuckergol)\n",
    "    - [Data Structures/Final Project Backend](https://github.com/tuckergol/backgang/commits?author=tuckergol), [Data Structures/Final Project Frontend](https://github.com/tuckergol/frontgang/commits?author=tuckergol)"
   ]
  },
  {
   "cell_type": "markdown",
   "metadata": {},
   "source": [
    "# Introduction to Full Stack Coding Skill Set and ML Experience\n",
    "\n",
    "## Full Stack Coding Skill Set\n",
    "\n",
    "Throughout the year in AP Computer Science Principles, I have developed a comprehensive Full Stack Coding skill set. Regarding backend work, I've worked extensively with Python, using Flask to create and manage API endpoints, utilizing server-side logic and data handling. I've also utilized SQLite databases for effective data management, allowing for the storage and retrieval of user data. Regarding frontend work, I've gained proficiency in HTML and JavaScript, building dynamic and interactive web pages. By integrating JavaScript with HTML, I've created user interfaces and implemented client-side functionality. I have also learned to develop machine learning algorithms to produce ideal outputs based on provided user circumstances (input). Additionally, I have learned various methods to organize the development of various algorithms, using strategies such as Agile Methodology and efficient Ideation/Planning. Overall, this general combination of development skills has equipped me with the ability to build end-to-end web applications to understand various layers of digital creation.\n",
    "\n",
    "## Machine Learning (ML) Experience\n",
    "\n",
    "I engaged in machine learning projects that applied various algorithms to address practical problems. One major example involved making a predictive model for Titanic survival using Python and Seaborn for data analysis and visualization. Leveraging the Logistic Regression algorithm, we trained the model to estimate survival probabilities based on passenger attributes such as gender and age. Additionally, we developed an algorithm to predict bakery item orders using historical data stored in a CSV file. We also utilized Linear Regression for our predictions. After preprocessing data with Pandas, we utilized the Decision Tree Classifier to predict the likelihood of specific bakery items being ordered at different times. This involved feature engineering, where factors like time, day type (weekday/weekend), and day part (morning/afternoon) were extracted and used as input. By using Scikit-Learn's libraries for model training and evaluation we made use of our understanding of algorithmic techniques, data manipulation, and predictive modeling. Overall, these ML projects served as massively important foundations in not just understanding predictive algorithms, but in contributing to my accomplishments as a Full Stack Developer and being able to manage data on a large scale, even suggesting additional pathways that involve analytics, such as data science."
   ]
  },
  {
   "cell_type": "markdown",
   "metadata": {},
   "source": [
    "# Showcasing Projects\n",
    "\n",
    "## N@tM - Trimester 1\n",
    "\n",
    "- Presented \"Passion Project\" at N@tM with my group\n",
    "    - Geoguessr-type game\n",
    "    - Attracted a good amount of attention during our presentation time, with students and parents alike coming to see other try their best to guess the correct countries corresponding to each flag or country shape/silhouette\n",
    "\n",
    "## N@tM - Trimester 2\n",
    "\n",
    "Event documentation/reflection linked [here](https://tuckergol.github.io/student2/2024/02/15/N@tM_Reflection_IPYNB_2_.html).\n",
    "\n",
    "- Presented \"CPT Practice Project\" at N@tM with my group\n",
    "    - Contributed to group presentation by presenting my feature, demonstrating the coordination of user theme change and username changing with the rest of the project (cookbook)\n",
    "\n",
    "## N@tM - Trimester 3\n",
    "\n",
    "- Presented \"Final Project\" (best project yet!) with my group\n",
    "    - User Settings feature with included finalized features and additional 2D iteration work to complete work as a Full Stack Developer"
   ]
  },
  {
   "cell_type": "markdown",
   "metadata": {},
   "source": [
    "## Favorite Project Demo\n",
    "\n",
    "I will be demoing my Final Project work for this (User Settings feature). This is my favorite project primarily because of how it represents my ability to code in acting as the main wrap-up for the year, demonstrating my ability as a Full Stack Developer by incorporating work that has been improved for the past several months. Especially compared to my other previous coding projects from this course this year, this is by far the most well put-together and most organized/well-working."
   ]
  },
  {
   "cell_type": "markdown",
   "metadata": {},
   "source": [
    "## Unique Qualification(s)\n",
    "\n",
    "I bring a blend of leadership, organization, and facilitation skills, consistently playing the role of Scrum Master in all of my groups throughout the school year, as I've consistently been the beacon of knowledge regarding teacher/class expectations, planning/ideation, and overall workflow efficiency.\n",
    "\n",
    "- Good eye for detail and a knack for strategic planning\n",
    "- Effectively orchestrated workflow and resources required to achieve our project objectives\n",
    "- Ability to foster collaboration, communication, and creativity within the team\n",
    "- Provided guidance, support, and motivation"
   ]
  }
 ],
 "metadata": {
  "language_info": {
   "name": "python"
  },
  "orig_nbformat": 4
 },
 "nbformat": 4,
 "nbformat_minor": 2
}
