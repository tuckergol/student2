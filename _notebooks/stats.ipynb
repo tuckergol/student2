{
 "cells": [
  {
   "cell_type": "code",
   "execution_count": 1,
   "metadata": {},
   "outputs": [
    {
     "name": "stdout",
     "output_type": "stream",
     "text": [
      "Distance from SAN for station #9: 21.05 miles\n",
      "Distance from SAN for station #98: 11.26 miles\n",
      "Distance from SAN for station #45: 14.26 miles\n",
      "Distance from SAN for station #104: 17.78 miles\n",
      "Distance from SAN for station #22: 15.73 miles\n",
      "Distance from SAN for station #40: 11.86 miles\n",
      "Distance from SAN for station #35: 17.80 miles\n",
      "Distance from SAN for station #83: 6.61 miles\n",
      "Distance from SAN for station #69: 17.61 miles\n",
      "Distance from SAN for station #6: 20.74 miles\n",
      "Distance from SAN for station #102: 6.81 miles\n",
      "Distance from SAN for station #58: 6.97 miles\n",
      "Distance from SAN for station #59: 6.08 miles\n",
      "Distance from SAN for station #25: 18.00 miles\n",
      "Distance from SAN for station #23: 14.95 miles\n",
      "Distance from SAN for station #62: 6.79 miles\n",
      "Distance from SAN for station #30: 15.02 miles\n",
      "Distance from SAN for station #3: 20.97 miles\n",
      "Distance from SAN for station #41: 12.03 miles\n",
      "Distance from SAN for station #50: 7.63 miles\n"
     ]
    }
   ],
   "source": [
    "# import for distance calculation based on coordinates\n",
    "from geopy.distance import geodesic\n",
    "\n",
    "# San Diego International Airport (SAN) coordinates\n",
    "SAN_COORDINATES = (32.73326478131931, -117.18962853909915)\n",
    "\n",
    "# Dictionary with coordinates of each gas station we sampled\n",
    "gas_stations = {\n",
    "    \"9\": (33.01862005820142, -117.06041755436097),\n",
    "    \"98\": (32.80015075656453, -117.0132124175659),\n",
    "    \"45\": (32.93720889976372, -117.23096907523055),\n",
    "    \"104\": (32.956755999683274, -117.03704746173462),\n",
    "    \"22\": (32.95080100039355, -117.10784708872532),\n",
    "    \"40\": (32.89436669138066, -117.11796243127738),\n",
    "    \"35\": (32.991558404812004, -117.19704729639012),\n",
    "    \"83\": (32.82810214364812, -117.20654000406962),\n",
    "    \"69\": (32.956181778447835, -117.0415497482394),\n",
    "    \"6\": (33.01831955858174, -117.07513725416993),\n",
    "    \"102\": (32.83149612474227, -117.20198853105997),\n",
    "    \"58\": (32.8343221625707, -117.19438859057422),\n",
    "    \"59\": (32.82068005467762, -117.17558137523497),\n",
    "    \"25\": (32.98094662122643, -117.09145738457735),\n",
    "    \"23\": (32.93676133841082, -117.10034186173529),\n",
    "    \"62\": (32.81058698044684, -117.1174365598957),\n",
    "    \"30\": (32.93770730808489, -117.10027146173528),\n",
    "    \"3\": (33.023815457569256, -117.08265014279448),\n",
    "    \"41\": (32.90723081808167, -117.17156649379305),\n",
    "    \"50\": (32.834934194462406, -117.13783611571891),\n",
    "}\n",
    "\n",
    "# Function: calculate distance between coordinates (Haversine formula)\n",
    "def calculate_distance(coord1, coord2):\n",
    "    return geodesic(coord1, coord2).miles\n",
    "\n",
    "# Iterate through each gas station, calculate distance to SAN\n",
    "for station, coords in gas_stations.items():\n",
    "    distance = calculate_distance(SAN_COORDINATES, coords)\n",
    "    print(f\"Distance from SAN for station #{station}: {distance:.2f} miles\")"
   ]
  }
 ],
 "metadata": {
  "kernelspec": {
   "display_name": "Python 3",
   "language": "python",
   "name": "python3"
  },
  "language_info": {
   "codemirror_mode": {
    "name": "ipython",
    "version": 3
   },
   "file_extension": ".py",
   "mimetype": "text/x-python",
   "name": "python",
   "nbconvert_exporter": "python",
   "pygments_lexer": "ipython3",
   "version": "3.11.7"
  },
  "orig_nbformat": 4
 },
 "nbformat": 4,
 "nbformat_minor": 2
}
